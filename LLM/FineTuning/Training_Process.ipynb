{
  "nbformat": 4,
  "nbformat_minor": 0,
  "metadata": {
    "colab": {
      "provenance": [],
      "gpuType": "T4",
      "authorship_tag": "ABX9TyPdlEIFCKH2cOV0DIGmIulN",
      "include_colab_link": true
    },
    "kernelspec": {
      "name": "python3",
      "display_name": "Python 3"
    },
    "language_info": {
      "name": "python"
    },
    "accelerator": "GPU",
    "widgets": {
      "application/vnd.jupyter.widget-state+json": {
        "8a5107ded52f42b3a83a9d4fa639abf3": {
          "model_module": "@jupyter-widgets/controls",
          "model_name": "HBoxModel",
          "model_module_version": "1.5.0",
          "state": {
            "_dom_classes": [],
            "_model_module": "@jupyter-widgets/controls",
            "_model_module_version": "1.5.0",
            "_model_name": "HBoxModel",
            "_view_count": null,
            "_view_module": "@jupyter-widgets/controls",
            "_view_module_version": "1.5.0",
            "_view_name": "HBoxView",
            "box_style": "",
            "children": [
              "IPY_MODEL_9158ec77f39e4ed6875b66ab2d88af72",
              "IPY_MODEL_3d270b2cab944efda2861e7089c83cf7",
              "IPY_MODEL_055555b2496c4721b931070205f74293"
            ],
            "layout": "IPY_MODEL_6b193469d0cc43328b0fd3d71d2947dc"
          }
        },
        "9158ec77f39e4ed6875b66ab2d88af72": {
          "model_module": "@jupyter-widgets/controls",
          "model_name": "HTMLModel",
          "model_module_version": "1.5.0",
          "state": {
            "_dom_classes": [],
            "_model_module": "@jupyter-widgets/controls",
            "_model_module_version": "1.5.0",
            "_model_name": "HTMLModel",
            "_view_count": null,
            "_view_module": "@jupyter-widgets/controls",
            "_view_module_version": "1.5.0",
            "_view_name": "HTMLView",
            "description": "",
            "description_tooltip": null,
            "layout": "IPY_MODEL_bb67a65de89d4dabaa3609b6dd095440",
            "placeholder": "​",
            "style": "IPY_MODEL_88aaebe7eb8c462e8ac75a4fd11b3ffa",
            "value": "Downloading (…)lve/main/config.json: 100%"
          }
        },
        "3d270b2cab944efda2861e7089c83cf7": {
          "model_module": "@jupyter-widgets/controls",
          "model_name": "FloatProgressModel",
          "model_module_version": "1.5.0",
          "state": {
            "_dom_classes": [],
            "_model_module": "@jupyter-widgets/controls",
            "_model_module_version": "1.5.0",
            "_model_name": "FloatProgressModel",
            "_view_count": null,
            "_view_module": "@jupyter-widgets/controls",
            "_view_module_version": "1.5.0",
            "_view_name": "ProgressView",
            "bar_style": "success",
            "description": "",
            "description_tooltip": null,
            "layout": "IPY_MODEL_de5d3a9ddf384651ac991a8818841354",
            "max": 717,
            "min": 0,
            "orientation": "horizontal",
            "style": "IPY_MODEL_fc33805d138341c7a6e7adb356c38fe6",
            "value": 717
          }
        },
        "055555b2496c4721b931070205f74293": {
          "model_module": "@jupyter-widgets/controls",
          "model_name": "HTMLModel",
          "model_module_version": "1.5.0",
          "state": {
            "_dom_classes": [],
            "_model_module": "@jupyter-widgets/controls",
            "_model_module_version": "1.5.0",
            "_model_name": "HTMLModel",
            "_view_count": null,
            "_view_module": "@jupyter-widgets/controls",
            "_view_module_version": "1.5.0",
            "_view_name": "HTMLView",
            "description": "",
            "description_tooltip": null,
            "layout": "IPY_MODEL_2e3c68bcbc6b4166be4f8201273c725a",
            "placeholder": "​",
            "style": "IPY_MODEL_60eaa0ff38ca405fb8fc143f3f69929d",
            "value": " 717/717 [00:00&lt;00:00, 32.4kB/s]"
          }
        },
        "6b193469d0cc43328b0fd3d71d2947dc": {
          "model_module": "@jupyter-widgets/base",
          "model_name": "LayoutModel",
          "model_module_version": "1.2.0",
          "state": {
            "_model_module": "@jupyter-widgets/base",
            "_model_module_version": "1.2.0",
            "_model_name": "LayoutModel",
            "_view_count": null,
            "_view_module": "@jupyter-widgets/base",
            "_view_module_version": "1.2.0",
            "_view_name": "LayoutView",
            "align_content": null,
            "align_items": null,
            "align_self": null,
            "border": null,
            "bottom": null,
            "display": null,
            "flex": null,
            "flex_flow": null,
            "grid_area": null,
            "grid_auto_columns": null,
            "grid_auto_flow": null,
            "grid_auto_rows": null,
            "grid_column": null,
            "grid_gap": null,
            "grid_row": null,
            "grid_template_areas": null,
            "grid_template_columns": null,
            "grid_template_rows": null,
            "height": null,
            "justify_content": null,
            "justify_items": null,
            "left": null,
            "margin": null,
            "max_height": null,
            "max_width": null,
            "min_height": null,
            "min_width": null,
            "object_fit": null,
            "object_position": null,
            "order": null,
            "overflow": null,
            "overflow_x": null,
            "overflow_y": null,
            "padding": null,
            "right": null,
            "top": null,
            "visibility": null,
            "width": null
          }
        },
        "bb67a65de89d4dabaa3609b6dd095440": {
          "model_module": "@jupyter-widgets/base",
          "model_name": "LayoutModel",
          "model_module_version": "1.2.0",
          "state": {
            "_model_module": "@jupyter-widgets/base",
            "_model_module_version": "1.2.0",
            "_model_name": "LayoutModel",
            "_view_count": null,
            "_view_module": "@jupyter-widgets/base",
            "_view_module_version": "1.2.0",
            "_view_name": "LayoutView",
            "align_content": null,
            "align_items": null,
            "align_self": null,
            "border": null,
            "bottom": null,
            "display": null,
            "flex": null,
            "flex_flow": null,
            "grid_area": null,
            "grid_auto_columns": null,
            "grid_auto_flow": null,
            "grid_auto_rows": null,
            "grid_column": null,
            "grid_gap": null,
            "grid_row": null,
            "grid_template_areas": null,
            "grid_template_columns": null,
            "grid_template_rows": null,
            "height": null,
            "justify_content": null,
            "justify_items": null,
            "left": null,
            "margin": null,
            "max_height": null,
            "max_width": null,
            "min_height": null,
            "min_width": null,
            "object_fit": null,
            "object_position": null,
            "order": null,
            "overflow": null,
            "overflow_x": null,
            "overflow_y": null,
            "padding": null,
            "right": null,
            "top": null,
            "visibility": null,
            "width": null
          }
        },
        "88aaebe7eb8c462e8ac75a4fd11b3ffa": {
          "model_module": "@jupyter-widgets/controls",
          "model_name": "DescriptionStyleModel",
          "model_module_version": "1.5.0",
          "state": {
            "_model_module": "@jupyter-widgets/controls",
            "_model_module_version": "1.5.0",
            "_model_name": "DescriptionStyleModel",
            "_view_count": null,
            "_view_module": "@jupyter-widgets/base",
            "_view_module_version": "1.2.0",
            "_view_name": "StyleView",
            "description_width": ""
          }
        },
        "de5d3a9ddf384651ac991a8818841354": {
          "model_module": "@jupyter-widgets/base",
          "model_name": "LayoutModel",
          "model_module_version": "1.2.0",
          "state": {
            "_model_module": "@jupyter-widgets/base",
            "_model_module_version": "1.2.0",
            "_model_name": "LayoutModel",
            "_view_count": null,
            "_view_module": "@jupyter-widgets/base",
            "_view_module_version": "1.2.0",
            "_view_name": "LayoutView",
            "align_content": null,
            "align_items": null,
            "align_self": null,
            "border": null,
            "bottom": null,
            "display": null,
            "flex": null,
            "flex_flow": null,
            "grid_area": null,
            "grid_auto_columns": null,
            "grid_auto_flow": null,
            "grid_auto_rows": null,
            "grid_column": null,
            "grid_gap": null,
            "grid_row": null,
            "grid_template_areas": null,
            "grid_template_columns": null,
            "grid_template_rows": null,
            "height": null,
            "justify_content": null,
            "justify_items": null,
            "left": null,
            "margin": null,
            "max_height": null,
            "max_width": null,
            "min_height": null,
            "min_width": null,
            "object_fit": null,
            "object_position": null,
            "order": null,
            "overflow": null,
            "overflow_x": null,
            "overflow_y": null,
            "padding": null,
            "right": null,
            "top": null,
            "visibility": null,
            "width": null
          }
        },
        "fc33805d138341c7a6e7adb356c38fe6": {
          "model_module": "@jupyter-widgets/controls",
          "model_name": "ProgressStyleModel",
          "model_module_version": "1.5.0",
          "state": {
            "_model_module": "@jupyter-widgets/controls",
            "_model_module_version": "1.5.0",
            "_model_name": "ProgressStyleModel",
            "_view_count": null,
            "_view_module": "@jupyter-widgets/base",
            "_view_module_version": "1.2.0",
            "_view_name": "StyleView",
            "bar_color": null,
            "description_width": ""
          }
        },
        "2e3c68bcbc6b4166be4f8201273c725a": {
          "model_module": "@jupyter-widgets/base",
          "model_name": "LayoutModel",
          "model_module_version": "1.2.0",
          "state": {
            "_model_module": "@jupyter-widgets/base",
            "_model_module_version": "1.2.0",
            "_model_name": "LayoutModel",
            "_view_count": null,
            "_view_module": "@jupyter-widgets/base",
            "_view_module_version": "1.2.0",
            "_view_name": "LayoutView",
            "align_content": null,
            "align_items": null,
            "align_self": null,
            "border": null,
            "bottom": null,
            "display": null,
            "flex": null,
            "flex_flow": null,
            "grid_area": null,
            "grid_auto_columns": null,
            "grid_auto_flow": null,
            "grid_auto_rows": null,
            "grid_column": null,
            "grid_gap": null,
            "grid_row": null,
            "grid_template_areas": null,
            "grid_template_columns": null,
            "grid_template_rows": null,
            "height": null,
            "justify_content": null,
            "justify_items": null,
            "left": null,
            "margin": null,
            "max_height": null,
            "max_width": null,
            "min_height": null,
            "min_width": null,
            "object_fit": null,
            "object_position": null,
            "order": null,
            "overflow": null,
            "overflow_x": null,
            "overflow_y": null,
            "padding": null,
            "right": null,
            "top": null,
            "visibility": null,
            "width": null
          }
        },
        "60eaa0ff38ca405fb8fc143f3f69929d": {
          "model_module": "@jupyter-widgets/controls",
          "model_name": "DescriptionStyleModel",
          "model_module_version": "1.5.0",
          "state": {
            "_model_module": "@jupyter-widgets/controls",
            "_model_module_version": "1.5.0",
            "_model_name": "DescriptionStyleModel",
            "_view_count": null,
            "_view_module": "@jupyter-widgets/base",
            "_view_module_version": "1.2.0",
            "_view_name": "StyleView",
            "description_width": ""
          }
        },
        "e6961cc564474f439eab8755ea1acf20": {
          "model_module": "@jupyter-widgets/controls",
          "model_name": "HBoxModel",
          "model_module_version": "1.5.0",
          "state": {
            "_dom_classes": [],
            "_model_module": "@jupyter-widgets/controls",
            "_model_module_version": "1.5.0",
            "_model_name": "HBoxModel",
            "_view_count": null,
            "_view_module": "@jupyter-widgets/controls",
            "_view_module_version": "1.5.0",
            "_view_name": "HBoxView",
            "box_style": "",
            "children": [
              "IPY_MODEL_82f5afba520641f19dd94a8446ac24b2",
              "IPY_MODEL_8e6d7e0d662c48c78bb9ca6a95514e2b",
              "IPY_MODEL_c582f84a1541485797546ef34ad1eeee"
            ],
            "layout": "IPY_MODEL_47fc3e22a99341e8b2030085b4301bad"
          }
        },
        "82f5afba520641f19dd94a8446ac24b2": {
          "model_module": "@jupyter-widgets/controls",
          "model_name": "HTMLModel",
          "model_module_version": "1.5.0",
          "state": {
            "_dom_classes": [],
            "_model_module": "@jupyter-widgets/controls",
            "_model_module_version": "1.5.0",
            "_model_name": "HTMLModel",
            "_view_count": null,
            "_view_module": "@jupyter-widgets/controls",
            "_view_module_version": "1.5.0",
            "_view_name": "HTMLView",
            "description": "",
            "description_tooltip": null,
            "layout": "IPY_MODEL_cbb74ffaf0a64ab88c0b9a813461ca4c",
            "placeholder": "​",
            "style": "IPY_MODEL_9d64eef5836349e1a80cc43a55ab0438",
            "value": "Downloading model.safetensors: 100%"
          }
        },
        "8e6d7e0d662c48c78bb9ca6a95514e2b": {
          "model_module": "@jupyter-widgets/controls",
          "model_name": "FloatProgressModel",
          "model_module_version": "1.5.0",
          "state": {
            "_dom_classes": [],
            "_model_module": "@jupyter-widgets/controls",
            "_model_module_version": "1.5.0",
            "_model_name": "FloatProgressModel",
            "_view_count": null,
            "_view_module": "@jupyter-widgets/controls",
            "_view_module_version": "1.5.0",
            "_view_name": "ProgressView",
            "bar_style": "success",
            "description": "",
            "description_tooltip": null,
            "layout": "IPY_MODEL_737648207f2d4b0c8c7cdce7ddf6f213",
            "max": 281716056,
            "min": 0,
            "orientation": "horizontal",
            "style": "IPY_MODEL_4274ee7bf55b4a8797e37f3c598cdad9",
            "value": 281716056
          }
        },
        "c582f84a1541485797546ef34ad1eeee": {
          "model_module": "@jupyter-widgets/controls",
          "model_name": "HTMLModel",
          "model_module_version": "1.5.0",
          "state": {
            "_dom_classes": [],
            "_model_module": "@jupyter-widgets/controls",
            "_model_module_version": "1.5.0",
            "_model_name": "HTMLModel",
            "_view_count": null,
            "_view_module": "@jupyter-widgets/controls",
            "_view_module_version": "1.5.0",
            "_view_name": "HTMLView",
            "description": "",
            "description_tooltip": null,
            "layout": "IPY_MODEL_3ad5e9ed9fda4a22a4a427f600697047",
            "placeholder": "​",
            "style": "IPY_MODEL_79aa2acc7e5c42688a2631ec28446875",
            "value": " 282M/282M [00:09&lt;00:00, 33.6MB/s]"
          }
        },
        "47fc3e22a99341e8b2030085b4301bad": {
          "model_module": "@jupyter-widgets/base",
          "model_name": "LayoutModel",
          "model_module_version": "1.2.0",
          "state": {
            "_model_module": "@jupyter-widgets/base",
            "_model_module_version": "1.2.0",
            "_model_name": "LayoutModel",
            "_view_count": null,
            "_view_module": "@jupyter-widgets/base",
            "_view_module_version": "1.2.0",
            "_view_name": "LayoutView",
            "align_content": null,
            "align_items": null,
            "align_self": null,
            "border": null,
            "bottom": null,
            "display": null,
            "flex": null,
            "flex_flow": null,
            "grid_area": null,
            "grid_auto_columns": null,
            "grid_auto_flow": null,
            "grid_auto_rows": null,
            "grid_column": null,
            "grid_gap": null,
            "grid_row": null,
            "grid_template_areas": null,
            "grid_template_columns": null,
            "grid_template_rows": null,
            "height": null,
            "justify_content": null,
            "justify_items": null,
            "left": null,
            "margin": null,
            "max_height": null,
            "max_width": null,
            "min_height": null,
            "min_width": null,
            "object_fit": null,
            "object_position": null,
            "order": null,
            "overflow": null,
            "overflow_x": null,
            "overflow_y": null,
            "padding": null,
            "right": null,
            "top": null,
            "visibility": null,
            "width": null
          }
        },
        "cbb74ffaf0a64ab88c0b9a813461ca4c": {
          "model_module": "@jupyter-widgets/base",
          "model_name": "LayoutModel",
          "model_module_version": "1.2.0",
          "state": {
            "_model_module": "@jupyter-widgets/base",
            "_model_module_version": "1.2.0",
            "_model_name": "LayoutModel",
            "_view_count": null,
            "_view_module": "@jupyter-widgets/base",
            "_view_module_version": "1.2.0",
            "_view_name": "LayoutView",
            "align_content": null,
            "align_items": null,
            "align_self": null,
            "border": null,
            "bottom": null,
            "display": null,
            "flex": null,
            "flex_flow": null,
            "grid_area": null,
            "grid_auto_columns": null,
            "grid_auto_flow": null,
            "grid_auto_rows": null,
            "grid_column": null,
            "grid_gap": null,
            "grid_row": null,
            "grid_template_areas": null,
            "grid_template_columns": null,
            "grid_template_rows": null,
            "height": null,
            "justify_content": null,
            "justify_items": null,
            "left": null,
            "margin": null,
            "max_height": null,
            "max_width": null,
            "min_height": null,
            "min_width": null,
            "object_fit": null,
            "object_position": null,
            "order": null,
            "overflow": null,
            "overflow_x": null,
            "overflow_y": null,
            "padding": null,
            "right": null,
            "top": null,
            "visibility": null,
            "width": null
          }
        },
        "9d64eef5836349e1a80cc43a55ab0438": {
          "model_module": "@jupyter-widgets/controls",
          "model_name": "DescriptionStyleModel",
          "model_module_version": "1.5.0",
          "state": {
            "_model_module": "@jupyter-widgets/controls",
            "_model_module_version": "1.5.0",
            "_model_name": "DescriptionStyleModel",
            "_view_count": null,
            "_view_module": "@jupyter-widgets/base",
            "_view_module_version": "1.2.0",
            "_view_name": "StyleView",
            "description_width": ""
          }
        },
        "737648207f2d4b0c8c7cdce7ddf6f213": {
          "model_module": "@jupyter-widgets/base",
          "model_name": "LayoutModel",
          "model_module_version": "1.2.0",
          "state": {
            "_model_module": "@jupyter-widgets/base",
            "_model_module_version": "1.2.0",
            "_model_name": "LayoutModel",
            "_view_count": null,
            "_view_module": "@jupyter-widgets/base",
            "_view_module_version": "1.2.0",
            "_view_name": "LayoutView",
            "align_content": null,
            "align_items": null,
            "align_self": null,
            "border": null,
            "bottom": null,
            "display": null,
            "flex": null,
            "flex_flow": null,
            "grid_area": null,
            "grid_auto_columns": null,
            "grid_auto_flow": null,
            "grid_auto_rows": null,
            "grid_column": null,
            "grid_gap": null,
            "grid_row": null,
            "grid_template_areas": null,
            "grid_template_columns": null,
            "grid_template_rows": null,
            "height": null,
            "justify_content": null,
            "justify_items": null,
            "left": null,
            "margin": null,
            "max_height": null,
            "max_width": null,
            "min_height": null,
            "min_width": null,
            "object_fit": null,
            "object_position": null,
            "order": null,
            "overflow": null,
            "overflow_x": null,
            "overflow_y": null,
            "padding": null,
            "right": null,
            "top": null,
            "visibility": null,
            "width": null
          }
        },
        "4274ee7bf55b4a8797e37f3c598cdad9": {
          "model_module": "@jupyter-widgets/controls",
          "model_name": "ProgressStyleModel",
          "model_module_version": "1.5.0",
          "state": {
            "_model_module": "@jupyter-widgets/controls",
            "_model_module_version": "1.5.0",
            "_model_name": "ProgressStyleModel",
            "_view_count": null,
            "_view_module": "@jupyter-widgets/base",
            "_view_module_version": "1.2.0",
            "_view_name": "StyleView",
            "bar_color": null,
            "description_width": ""
          }
        },
        "3ad5e9ed9fda4a22a4a427f600697047": {
          "model_module": "@jupyter-widgets/base",
          "model_name": "LayoutModel",
          "model_module_version": "1.2.0",
          "state": {
            "_model_module": "@jupyter-widgets/base",
            "_model_module_version": "1.2.0",
            "_model_name": "LayoutModel",
            "_view_count": null,
            "_view_module": "@jupyter-widgets/base",
            "_view_module_version": "1.2.0",
            "_view_name": "LayoutView",
            "align_content": null,
            "align_items": null,
            "align_self": null,
            "border": null,
            "bottom": null,
            "display": null,
            "flex": null,
            "flex_flow": null,
            "grid_area": null,
            "grid_auto_columns": null,
            "grid_auto_flow": null,
            "grid_auto_rows": null,
            "grid_column": null,
            "grid_gap": null,
            "grid_row": null,
            "grid_template_areas": null,
            "grid_template_columns": null,
            "grid_template_rows": null,
            "height": null,
            "justify_content": null,
            "justify_items": null,
            "left": null,
            "margin": null,
            "max_height": null,
            "max_width": null,
            "min_height": null,
            "min_width": null,
            "object_fit": null,
            "object_position": null,
            "order": null,
            "overflow": null,
            "overflow_x": null,
            "overflow_y": null,
            "padding": null,
            "right": null,
            "top": null,
            "visibility": null,
            "width": null
          }
        },
        "79aa2acc7e5c42688a2631ec28446875": {
          "model_module": "@jupyter-widgets/controls",
          "model_name": "DescriptionStyleModel",
          "model_module_version": "1.5.0",
          "state": {
            "_model_module": "@jupyter-widgets/controls",
            "_model_module_version": "1.5.0",
            "_model_name": "DescriptionStyleModel",
            "_view_count": null,
            "_view_module": "@jupyter-widgets/base",
            "_view_module_version": "1.2.0",
            "_view_name": "StyleView",
            "description_width": ""
          }
        },
        "08d6031f2b7d480f94d7cbf7232a97f8": {
          "model_module": "@jupyter-widgets/controls",
          "model_name": "HBoxModel",
          "model_module_version": "1.5.0",
          "state": {
            "_dom_classes": [],
            "_model_module": "@jupyter-widgets/controls",
            "_model_module_version": "1.5.0",
            "_model_name": "HBoxModel",
            "_view_count": null,
            "_view_module": "@jupyter-widgets/controls",
            "_view_module_version": "1.5.0",
            "_view_name": "HBoxView",
            "box_style": "",
            "children": [
              "IPY_MODEL_c0d7fe7ec43b478e9b087a18a919b4c3",
              "IPY_MODEL_36540e84a138433e8cbabcc46a16b191",
              "IPY_MODEL_0e2cdc2aa2a34cd9bdc9568cab3d9c2a"
            ],
            "layout": "IPY_MODEL_58c5b163f52b4cc2ad2aa8f19e324781"
          }
        },
        "c0d7fe7ec43b478e9b087a18a919b4c3": {
          "model_module": "@jupyter-widgets/controls",
          "model_name": "HTMLModel",
          "model_module_version": "1.5.0",
          "state": {
            "_dom_classes": [],
            "_model_module": "@jupyter-widgets/controls",
            "_model_module_version": "1.5.0",
            "_model_name": "HTMLModel",
            "_view_count": null,
            "_view_module": "@jupyter-widgets/controls",
            "_view_module_version": "1.5.0",
            "_view_name": "HTMLView",
            "description": "",
            "description_tooltip": null,
            "layout": "IPY_MODEL_97a2515632cc4af1975fd5ec0d024dc2",
            "placeholder": "​",
            "style": "IPY_MODEL_72f00796304547278ec093d8e6632b48",
            "value": "Downloading (…)neration_config.json: 100%"
          }
        },
        "36540e84a138433e8cbabcc46a16b191": {
          "model_module": "@jupyter-widgets/controls",
          "model_name": "FloatProgressModel",
          "model_module_version": "1.5.0",
          "state": {
            "_dom_classes": [],
            "_model_module": "@jupyter-widgets/controls",
            "_model_module_version": "1.5.0",
            "_model_name": "FloatProgressModel",
            "_view_count": null,
            "_view_module": "@jupyter-widgets/controls",
            "_view_module_version": "1.5.0",
            "_view_name": "ProgressView",
            "bar_style": "success",
            "description": "",
            "description_tooltip": null,
            "layout": "IPY_MODEL_0f7f1651cda94be0b464ec6217d451e3",
            "max": 111,
            "min": 0,
            "orientation": "horizontal",
            "style": "IPY_MODEL_d171e8ee349b47d0974d08a5478e3828",
            "value": 111
          }
        },
        "0e2cdc2aa2a34cd9bdc9568cab3d9c2a": {
          "model_module": "@jupyter-widgets/controls",
          "model_name": "HTMLModel",
          "model_module_version": "1.5.0",
          "state": {
            "_dom_classes": [],
            "_model_module": "@jupyter-widgets/controls",
            "_model_module_version": "1.5.0",
            "_model_name": "HTMLModel",
            "_view_count": null,
            "_view_module": "@jupyter-widgets/controls",
            "_view_module_version": "1.5.0",
            "_view_name": "HTMLView",
            "description": "",
            "description_tooltip": null,
            "layout": "IPY_MODEL_154deae3fd13480088db080d0a56e4f5",
            "placeholder": "​",
            "style": "IPY_MODEL_ca9c143c7fe947288ded956d7b95af1e",
            "value": " 111/111 [00:00&lt;00:00, 3.66kB/s]"
          }
        },
        "58c5b163f52b4cc2ad2aa8f19e324781": {
          "model_module": "@jupyter-widgets/base",
          "model_name": "LayoutModel",
          "model_module_version": "1.2.0",
          "state": {
            "_model_module": "@jupyter-widgets/base",
            "_model_module_version": "1.2.0",
            "_model_name": "LayoutModel",
            "_view_count": null,
            "_view_module": "@jupyter-widgets/base",
            "_view_module_version": "1.2.0",
            "_view_name": "LayoutView",
            "align_content": null,
            "align_items": null,
            "align_self": null,
            "border": null,
            "bottom": null,
            "display": null,
            "flex": null,
            "flex_flow": null,
            "grid_area": null,
            "grid_auto_columns": null,
            "grid_auto_flow": null,
            "grid_auto_rows": null,
            "grid_column": null,
            "grid_gap": null,
            "grid_row": null,
            "grid_template_areas": null,
            "grid_template_columns": null,
            "grid_template_rows": null,
            "height": null,
            "justify_content": null,
            "justify_items": null,
            "left": null,
            "margin": null,
            "max_height": null,
            "max_width": null,
            "min_height": null,
            "min_width": null,
            "object_fit": null,
            "object_position": null,
            "order": null,
            "overflow": null,
            "overflow_x": null,
            "overflow_y": null,
            "padding": null,
            "right": null,
            "top": null,
            "visibility": null,
            "width": null
          }
        },
        "97a2515632cc4af1975fd5ec0d024dc2": {
          "model_module": "@jupyter-widgets/base",
          "model_name": "LayoutModel",
          "model_module_version": "1.2.0",
          "state": {
            "_model_module": "@jupyter-widgets/base",
            "_model_module_version": "1.2.0",
            "_model_name": "LayoutModel",
            "_view_count": null,
            "_view_module": "@jupyter-widgets/base",
            "_view_module_version": "1.2.0",
            "_view_name": "LayoutView",
            "align_content": null,
            "align_items": null,
            "align_self": null,
            "border": null,
            "bottom": null,
            "display": null,
            "flex": null,
            "flex_flow": null,
            "grid_area": null,
            "grid_auto_columns": null,
            "grid_auto_flow": null,
            "grid_auto_rows": null,
            "grid_column": null,
            "grid_gap": null,
            "grid_row": null,
            "grid_template_areas": null,
            "grid_template_columns": null,
            "grid_template_rows": null,
            "height": null,
            "justify_content": null,
            "justify_items": null,
            "left": null,
            "margin": null,
            "max_height": null,
            "max_width": null,
            "min_height": null,
            "min_width": null,
            "object_fit": null,
            "object_position": null,
            "order": null,
            "overflow": null,
            "overflow_x": null,
            "overflow_y": null,
            "padding": null,
            "right": null,
            "top": null,
            "visibility": null,
            "width": null
          }
        },
        "72f00796304547278ec093d8e6632b48": {
          "model_module": "@jupyter-widgets/controls",
          "model_name": "DescriptionStyleModel",
          "model_module_version": "1.5.0",
          "state": {
            "_model_module": "@jupyter-widgets/controls",
            "_model_module_version": "1.5.0",
            "_model_name": "DescriptionStyleModel",
            "_view_count": null,
            "_view_module": "@jupyter-widgets/base",
            "_view_module_version": "1.2.0",
            "_view_name": "StyleView",
            "description_width": ""
          }
        },
        "0f7f1651cda94be0b464ec6217d451e3": {
          "model_module": "@jupyter-widgets/base",
          "model_name": "LayoutModel",
          "model_module_version": "1.2.0",
          "state": {
            "_model_module": "@jupyter-widgets/base",
            "_model_module_version": "1.2.0",
            "_model_name": "LayoutModel",
            "_view_count": null,
            "_view_module": "@jupyter-widgets/base",
            "_view_module_version": "1.2.0",
            "_view_name": "LayoutView",
            "align_content": null,
            "align_items": null,
            "align_self": null,
            "border": null,
            "bottom": null,
            "display": null,
            "flex": null,
            "flex_flow": null,
            "grid_area": null,
            "grid_auto_columns": null,
            "grid_auto_flow": null,
            "grid_auto_rows": null,
            "grid_column": null,
            "grid_gap": null,
            "grid_row": null,
            "grid_template_areas": null,
            "grid_template_columns": null,
            "grid_template_rows": null,
            "height": null,
            "justify_content": null,
            "justify_items": null,
            "left": null,
            "margin": null,
            "max_height": null,
            "max_width": null,
            "min_height": null,
            "min_width": null,
            "object_fit": null,
            "object_position": null,
            "order": null,
            "overflow": null,
            "overflow_x": null,
            "overflow_y": null,
            "padding": null,
            "right": null,
            "top": null,
            "visibility": null,
            "width": null
          }
        },
        "d171e8ee349b47d0974d08a5478e3828": {
          "model_module": "@jupyter-widgets/controls",
          "model_name": "ProgressStyleModel",
          "model_module_version": "1.5.0",
          "state": {
            "_model_module": "@jupyter-widgets/controls",
            "_model_module_version": "1.5.0",
            "_model_name": "ProgressStyleModel",
            "_view_count": null,
            "_view_module": "@jupyter-widgets/base",
            "_view_module_version": "1.2.0",
            "_view_name": "StyleView",
            "bar_color": null,
            "description_width": ""
          }
        },
        "154deae3fd13480088db080d0a56e4f5": {
          "model_module": "@jupyter-widgets/base",
          "model_name": "LayoutModel",
          "model_module_version": "1.2.0",
          "state": {
            "_model_module": "@jupyter-widgets/base",
            "_model_module_version": "1.2.0",
            "_model_name": "LayoutModel",
            "_view_count": null,
            "_view_module": "@jupyter-widgets/base",
            "_view_module_version": "1.2.0",
            "_view_name": "LayoutView",
            "align_content": null,
            "align_items": null,
            "align_self": null,
            "border": null,
            "bottom": null,
            "display": null,
            "flex": null,
            "flex_flow": null,
            "grid_area": null,
            "grid_auto_columns": null,
            "grid_auto_flow": null,
            "grid_auto_rows": null,
            "grid_column": null,
            "grid_gap": null,
            "grid_row": null,
            "grid_template_areas": null,
            "grid_template_columns": null,
            "grid_template_rows": null,
            "height": null,
            "justify_content": null,
            "justify_items": null,
            "left": null,
            "margin": null,
            "max_height": null,
            "max_width": null,
            "min_height": null,
            "min_width": null,
            "object_fit": null,
            "object_position": null,
            "order": null,
            "overflow": null,
            "overflow_x": null,
            "overflow_y": null,
            "padding": null,
            "right": null,
            "top": null,
            "visibility": null,
            "width": null
          }
        },
        "ca9c143c7fe947288ded956d7b95af1e": {
          "model_module": "@jupyter-widgets/controls",
          "model_name": "DescriptionStyleModel",
          "model_module_version": "1.5.0",
          "state": {
            "_model_module": "@jupyter-widgets/controls",
            "_model_module_version": "1.5.0",
            "_model_name": "DescriptionStyleModel",
            "_view_count": null,
            "_view_module": "@jupyter-widgets/base",
            "_view_module_version": "1.2.0",
            "_view_name": "StyleView",
            "description_width": ""
          }
        },
        "81c6fd0bbeb24f09bde3e6d299d5f138": {
          "model_module": "@jupyter-widgets/controls",
          "model_name": "HBoxModel",
          "model_module_version": "1.5.0",
          "state": {
            "_dom_classes": [],
            "_model_module": "@jupyter-widgets/controls",
            "_model_module_version": "1.5.0",
            "_model_name": "HBoxModel",
            "_view_count": null,
            "_view_module": "@jupyter-widgets/controls",
            "_view_module_version": "1.5.0",
            "_view_name": "HBoxView",
            "box_style": "",
            "children": [
              "IPY_MODEL_3b762776a16541a0b802cd1f17f6675c",
              "IPY_MODEL_1b1410c36e8d48fea630db0d2c4f4958",
              "IPY_MODEL_a76eb5cb130248c48065bc9e9312c70e"
            ],
            "layout": "IPY_MODEL_c9d90871adc546c4a5a9a0cbb2d33049"
          }
        },
        "3b762776a16541a0b802cd1f17f6675c": {
          "model_module": "@jupyter-widgets/controls",
          "model_name": "HTMLModel",
          "model_module_version": "1.5.0",
          "state": {
            "_dom_classes": [],
            "_model_module": "@jupyter-widgets/controls",
            "_model_module_version": "1.5.0",
            "_model_name": "HTMLModel",
            "_view_count": null,
            "_view_module": "@jupyter-widgets/controls",
            "_view_module_version": "1.5.0",
            "_view_name": "HTMLView",
            "description": "",
            "description_tooltip": null,
            "layout": "IPY_MODEL_58c9f194937a4fb6abd6f4c54fa839bd",
            "placeholder": "​",
            "style": "IPY_MODEL_a14e18efc3b54835bd0dfe0d2ee6fce6",
            "value": "Downloading (…)okenizer_config.json: 100%"
          }
        },
        "1b1410c36e8d48fea630db0d2c4f4958": {
          "model_module": "@jupyter-widgets/controls",
          "model_name": "FloatProgressModel",
          "model_module_version": "1.5.0",
          "state": {
            "_dom_classes": [],
            "_model_module": "@jupyter-widgets/controls",
            "_model_module_version": "1.5.0",
            "_model_name": "FloatProgressModel",
            "_view_count": null,
            "_view_module": "@jupyter-widgets/controls",
            "_view_module_version": "1.5.0",
            "_view_name": "ProgressView",
            "bar_style": "success",
            "description": "",
            "description_tooltip": null,
            "layout": "IPY_MODEL_eee92ea092c74e6bb133cb007fedf87c",
            "max": 264,
            "min": 0,
            "orientation": "horizontal",
            "style": "IPY_MODEL_95605bbcdbe5465a80a27764e37fddd5",
            "value": 264
          }
        },
        "a76eb5cb130248c48065bc9e9312c70e": {
          "model_module": "@jupyter-widgets/controls",
          "model_name": "HTMLModel",
          "model_module_version": "1.5.0",
          "state": {
            "_dom_classes": [],
            "_model_module": "@jupyter-widgets/controls",
            "_model_module_version": "1.5.0",
            "_model_name": "HTMLModel",
            "_view_count": null,
            "_view_module": "@jupyter-widgets/controls",
            "_view_module_version": "1.5.0",
            "_view_name": "HTMLView",
            "description": "",
            "description_tooltip": null,
            "layout": "IPY_MODEL_31cb18d9c7264278989660b3c4f6af64",
            "placeholder": "​",
            "style": "IPY_MODEL_9a5c7ad7be9f49a4860ae9f24a422661",
            "value": " 264/264 [00:00&lt;00:00, 13.2kB/s]"
          }
        },
        "c9d90871adc546c4a5a9a0cbb2d33049": {
          "model_module": "@jupyter-widgets/base",
          "model_name": "LayoutModel",
          "model_module_version": "1.2.0",
          "state": {
            "_model_module": "@jupyter-widgets/base",
            "_model_module_version": "1.2.0",
            "_model_name": "LayoutModel",
            "_view_count": null,
            "_view_module": "@jupyter-widgets/base",
            "_view_module_version": "1.2.0",
            "_view_name": "LayoutView",
            "align_content": null,
            "align_items": null,
            "align_self": null,
            "border": null,
            "bottom": null,
            "display": null,
            "flex": null,
            "flex_flow": null,
            "grid_area": null,
            "grid_auto_columns": null,
            "grid_auto_flow": null,
            "grid_auto_rows": null,
            "grid_column": null,
            "grid_gap": null,
            "grid_row": null,
            "grid_template_areas": null,
            "grid_template_columns": null,
            "grid_template_rows": null,
            "height": null,
            "justify_content": null,
            "justify_items": null,
            "left": null,
            "margin": null,
            "max_height": null,
            "max_width": null,
            "min_height": null,
            "min_width": null,
            "object_fit": null,
            "object_position": null,
            "order": null,
            "overflow": null,
            "overflow_x": null,
            "overflow_y": null,
            "padding": null,
            "right": null,
            "top": null,
            "visibility": null,
            "width": null
          }
        },
        "58c9f194937a4fb6abd6f4c54fa839bd": {
          "model_module": "@jupyter-widgets/base",
          "model_name": "LayoutModel",
          "model_module_version": "1.2.0",
          "state": {
            "_model_module": "@jupyter-widgets/base",
            "_model_module_version": "1.2.0",
            "_model_name": "LayoutModel",
            "_view_count": null,
            "_view_module": "@jupyter-widgets/base",
            "_view_module_version": "1.2.0",
            "_view_name": "LayoutView",
            "align_content": null,
            "align_items": null,
            "align_self": null,
            "border": null,
            "bottom": null,
            "display": null,
            "flex": null,
            "flex_flow": null,
            "grid_area": null,
            "grid_auto_columns": null,
            "grid_auto_flow": null,
            "grid_auto_rows": null,
            "grid_column": null,
            "grid_gap": null,
            "grid_row": null,
            "grid_template_areas": null,
            "grid_template_columns": null,
            "grid_template_rows": null,
            "height": null,
            "justify_content": null,
            "justify_items": null,
            "left": null,
            "margin": null,
            "max_height": null,
            "max_width": null,
            "min_height": null,
            "min_width": null,
            "object_fit": null,
            "object_position": null,
            "order": null,
            "overflow": null,
            "overflow_x": null,
            "overflow_y": null,
            "padding": null,
            "right": null,
            "top": null,
            "visibility": null,
            "width": null
          }
        },
        "a14e18efc3b54835bd0dfe0d2ee6fce6": {
          "model_module": "@jupyter-widgets/controls",
          "model_name": "DescriptionStyleModel",
          "model_module_version": "1.5.0",
          "state": {
            "_model_module": "@jupyter-widgets/controls",
            "_model_module_version": "1.5.0",
            "_model_name": "DescriptionStyleModel",
            "_view_count": null,
            "_view_module": "@jupyter-widgets/base",
            "_view_module_version": "1.2.0",
            "_view_name": "StyleView",
            "description_width": ""
          }
        },
        "eee92ea092c74e6bb133cb007fedf87c": {
          "model_module": "@jupyter-widgets/base",
          "model_name": "LayoutModel",
          "model_module_version": "1.2.0",
          "state": {
            "_model_module": "@jupyter-widgets/base",
            "_model_module_version": "1.2.0",
            "_model_name": "LayoutModel",
            "_view_count": null,
            "_view_module": "@jupyter-widgets/base",
            "_view_module_version": "1.2.0",
            "_view_name": "LayoutView",
            "align_content": null,
            "align_items": null,
            "align_self": null,
            "border": null,
            "bottom": null,
            "display": null,
            "flex": null,
            "flex_flow": null,
            "grid_area": null,
            "grid_auto_columns": null,
            "grid_auto_flow": null,
            "grid_auto_rows": null,
            "grid_column": null,
            "grid_gap": null,
            "grid_row": null,
            "grid_template_areas": null,
            "grid_template_columns": null,
            "grid_template_rows": null,
            "height": null,
            "justify_content": null,
            "justify_items": null,
            "left": null,
            "margin": null,
            "max_height": null,
            "max_width": null,
            "min_height": null,
            "min_width": null,
            "object_fit": null,
            "object_position": null,
            "order": null,
            "overflow": null,
            "overflow_x": null,
            "overflow_y": null,
            "padding": null,
            "right": null,
            "top": null,
            "visibility": null,
            "width": null
          }
        },
        "95605bbcdbe5465a80a27764e37fddd5": {
          "model_module": "@jupyter-widgets/controls",
          "model_name": "ProgressStyleModel",
          "model_module_version": "1.5.0",
          "state": {
            "_model_module": "@jupyter-widgets/controls",
            "_model_module_version": "1.5.0",
            "_model_name": "ProgressStyleModel",
            "_view_count": null,
            "_view_module": "@jupyter-widgets/base",
            "_view_module_version": "1.2.0",
            "_view_name": "StyleView",
            "bar_color": null,
            "description_width": ""
          }
        },
        "31cb18d9c7264278989660b3c4f6af64": {
          "model_module": "@jupyter-widgets/base",
          "model_name": "LayoutModel",
          "model_module_version": "1.2.0",
          "state": {
            "_model_module": "@jupyter-widgets/base",
            "_model_module_version": "1.2.0",
            "_model_name": "LayoutModel",
            "_view_count": null,
            "_view_module": "@jupyter-widgets/base",
            "_view_module_version": "1.2.0",
            "_view_name": "LayoutView",
            "align_content": null,
            "align_items": null,
            "align_self": null,
            "border": null,
            "bottom": null,
            "display": null,
            "flex": null,
            "flex_flow": null,
            "grid_area": null,
            "grid_auto_columns": null,
            "grid_auto_flow": null,
            "grid_auto_rows": null,
            "grid_column": null,
            "grid_gap": null,
            "grid_row": null,
            "grid_template_areas": null,
            "grid_template_columns": null,
            "grid_template_rows": null,
            "height": null,
            "justify_content": null,
            "justify_items": null,
            "left": null,
            "margin": null,
            "max_height": null,
            "max_width": null,
            "min_height": null,
            "min_width": null,
            "object_fit": null,
            "object_position": null,
            "order": null,
            "overflow": null,
            "overflow_x": null,
            "overflow_y": null,
            "padding": null,
            "right": null,
            "top": null,
            "visibility": null,
            "width": null
          }
        },
        "9a5c7ad7be9f49a4860ae9f24a422661": {
          "model_module": "@jupyter-widgets/controls",
          "model_name": "DescriptionStyleModel",
          "model_module_version": "1.5.0",
          "state": {
            "_model_module": "@jupyter-widgets/controls",
            "_model_module_version": "1.5.0",
            "_model_name": "DescriptionStyleModel",
            "_view_count": null,
            "_view_module": "@jupyter-widgets/base",
            "_view_module_version": "1.2.0",
            "_view_name": "StyleView",
            "description_width": ""
          }
        },
        "2944bb5fd1934afeb39bc09cc01f2e52": {
          "model_module": "@jupyter-widgets/controls",
          "model_name": "HBoxModel",
          "model_module_version": "1.5.0",
          "state": {
            "_dom_classes": [],
            "_model_module": "@jupyter-widgets/controls",
            "_model_module_version": "1.5.0",
            "_model_name": "HBoxModel",
            "_view_count": null,
            "_view_module": "@jupyter-widgets/controls",
            "_view_module_version": "1.5.0",
            "_view_name": "HBoxView",
            "box_style": "",
            "children": [
              "IPY_MODEL_28cc1a49254343a0a493f4cb58d52017",
              "IPY_MODEL_5f97fecd86fa4643bbf0c194f773700f",
              "IPY_MODEL_cc8aa030fc544103a2bec6d39042a4a0"
            ],
            "layout": "IPY_MODEL_5ba91d04154d476e975d5a06fde01b5d"
          }
        },
        "28cc1a49254343a0a493f4cb58d52017": {
          "model_module": "@jupyter-widgets/controls",
          "model_name": "HTMLModel",
          "model_module_version": "1.5.0",
          "state": {
            "_dom_classes": [],
            "_model_module": "@jupyter-widgets/controls",
            "_model_module_version": "1.5.0",
            "_model_name": "HTMLModel",
            "_view_count": null,
            "_view_module": "@jupyter-widgets/controls",
            "_view_module_version": "1.5.0",
            "_view_name": "HTMLView",
            "description": "",
            "description_tooltip": null,
            "layout": "IPY_MODEL_e4ad9f945d6c489192a9bf9942ef9a41",
            "placeholder": "​",
            "style": "IPY_MODEL_bd0dc3d5823b42559bee0c78443b834f",
            "value": "Downloading (…)/main/tokenizer.json: 100%"
          }
        },
        "5f97fecd86fa4643bbf0c194f773700f": {
          "model_module": "@jupyter-widgets/controls",
          "model_name": "FloatProgressModel",
          "model_module_version": "1.5.0",
          "state": {
            "_dom_classes": [],
            "_model_module": "@jupyter-widgets/controls",
            "_model_module_version": "1.5.0",
            "_model_name": "FloatProgressModel",
            "_view_count": null,
            "_view_module": "@jupyter-widgets/controls",
            "_view_module_version": "1.5.0",
            "_view_name": "ProgressView",
            "bar_style": "success",
            "description": "",
            "description_tooltip": null,
            "layout": "IPY_MODEL_12096c55f1ba4c4587d021a22847c5a3",
            "max": 2113837,
            "min": 0,
            "orientation": "horizontal",
            "style": "IPY_MODEL_61b20b7762974661a2ad9ff8afe35bea",
            "value": 2113837
          }
        },
        "cc8aa030fc544103a2bec6d39042a4a0": {
          "model_module": "@jupyter-widgets/controls",
          "model_name": "HTMLModel",
          "model_module_version": "1.5.0",
          "state": {
            "_dom_classes": [],
            "_model_module": "@jupyter-widgets/controls",
            "_model_module_version": "1.5.0",
            "_model_name": "HTMLModel",
            "_view_count": null,
            "_view_module": "@jupyter-widgets/controls",
            "_view_module_version": "1.5.0",
            "_view_name": "HTMLView",
            "description": "",
            "description_tooltip": null,
            "layout": "IPY_MODEL_7bf37d0bf9d0460688c003ee86d15151",
            "placeholder": "​",
            "style": "IPY_MODEL_2544c735212943fb8e66b115d8679f32",
            "value": " 2.11M/2.11M [00:00&lt;00:00, 5.11MB/s]"
          }
        },
        "5ba91d04154d476e975d5a06fde01b5d": {
          "model_module": "@jupyter-widgets/base",
          "model_name": "LayoutModel",
          "model_module_version": "1.2.0",
          "state": {
            "_model_module": "@jupyter-widgets/base",
            "_model_module_version": "1.2.0",
            "_model_name": "LayoutModel",
            "_view_count": null,
            "_view_module": "@jupyter-widgets/base",
            "_view_module_version": "1.2.0",
            "_view_name": "LayoutView",
            "align_content": null,
            "align_items": null,
            "align_self": null,
            "border": null,
            "bottom": null,
            "display": null,
            "flex": null,
            "flex_flow": null,
            "grid_area": null,
            "grid_auto_columns": null,
            "grid_auto_flow": null,
            "grid_auto_rows": null,
            "grid_column": null,
            "grid_gap": null,
            "grid_row": null,
            "grid_template_areas": null,
            "grid_template_columns": null,
            "grid_template_rows": null,
            "height": null,
            "justify_content": null,
            "justify_items": null,
            "left": null,
            "margin": null,
            "max_height": null,
            "max_width": null,
            "min_height": null,
            "min_width": null,
            "object_fit": null,
            "object_position": null,
            "order": null,
            "overflow": null,
            "overflow_x": null,
            "overflow_y": null,
            "padding": null,
            "right": null,
            "top": null,
            "visibility": null,
            "width": null
          }
        },
        "e4ad9f945d6c489192a9bf9942ef9a41": {
          "model_module": "@jupyter-widgets/base",
          "model_name": "LayoutModel",
          "model_module_version": "1.2.0",
          "state": {
            "_model_module": "@jupyter-widgets/base",
            "_model_module_version": "1.2.0",
            "_model_name": "LayoutModel",
            "_view_count": null,
            "_view_module": "@jupyter-widgets/base",
            "_view_module_version": "1.2.0",
            "_view_name": "LayoutView",
            "align_content": null,
            "align_items": null,
            "align_self": null,
            "border": null,
            "bottom": null,
            "display": null,
            "flex": null,
            "flex_flow": null,
            "grid_area": null,
            "grid_auto_columns": null,
            "grid_auto_flow": null,
            "grid_auto_rows": null,
            "grid_column": null,
            "grid_gap": null,
            "grid_row": null,
            "grid_template_areas": null,
            "grid_template_columns": null,
            "grid_template_rows": null,
            "height": null,
            "justify_content": null,
            "justify_items": null,
            "left": null,
            "margin": null,
            "max_height": null,
            "max_width": null,
            "min_height": null,
            "min_width": null,
            "object_fit": null,
            "object_position": null,
            "order": null,
            "overflow": null,
            "overflow_x": null,
            "overflow_y": null,
            "padding": null,
            "right": null,
            "top": null,
            "visibility": null,
            "width": null
          }
        },
        "bd0dc3d5823b42559bee0c78443b834f": {
          "model_module": "@jupyter-widgets/controls",
          "model_name": "DescriptionStyleModel",
          "model_module_version": "1.5.0",
          "state": {
            "_model_module": "@jupyter-widgets/controls",
            "_model_module_version": "1.5.0",
            "_model_name": "DescriptionStyleModel",
            "_view_count": null,
            "_view_module": "@jupyter-widgets/base",
            "_view_module_version": "1.2.0",
            "_view_name": "StyleView",
            "description_width": ""
          }
        },
        "12096c55f1ba4c4587d021a22847c5a3": {
          "model_module": "@jupyter-widgets/base",
          "model_name": "LayoutModel",
          "model_module_version": "1.2.0",
          "state": {
            "_model_module": "@jupyter-widgets/base",
            "_model_module_version": "1.2.0",
            "_model_name": "LayoutModel",
            "_view_count": null,
            "_view_module": "@jupyter-widgets/base",
            "_view_module_version": "1.2.0",
            "_view_name": "LayoutView",
            "align_content": null,
            "align_items": null,
            "align_self": null,
            "border": null,
            "bottom": null,
            "display": null,
            "flex": null,
            "flex_flow": null,
            "grid_area": null,
            "grid_auto_columns": null,
            "grid_auto_flow": null,
            "grid_auto_rows": null,
            "grid_column": null,
            "grid_gap": null,
            "grid_row": null,
            "grid_template_areas": null,
            "grid_template_columns": null,
            "grid_template_rows": null,
            "height": null,
            "justify_content": null,
            "justify_items": null,
            "left": null,
            "margin": null,
            "max_height": null,
            "max_width": null,
            "min_height": null,
            "min_width": null,
            "object_fit": null,
            "object_position": null,
            "order": null,
            "overflow": null,
            "overflow_x": null,
            "overflow_y": null,
            "padding": null,
            "right": null,
            "top": null,
            "visibility": null,
            "width": null
          }
        },
        "61b20b7762974661a2ad9ff8afe35bea": {
          "model_module": "@jupyter-widgets/controls",
          "model_name": "ProgressStyleModel",
          "model_module_version": "1.5.0",
          "state": {
            "_model_module": "@jupyter-widgets/controls",
            "_model_module_version": "1.5.0",
            "_model_name": "ProgressStyleModel",
            "_view_count": null,
            "_view_module": "@jupyter-widgets/base",
            "_view_module_version": "1.2.0",
            "_view_name": "StyleView",
            "bar_color": null,
            "description_width": ""
          }
        },
        "7bf37d0bf9d0460688c003ee86d15151": {
          "model_module": "@jupyter-widgets/base",
          "model_name": "LayoutModel",
          "model_module_version": "1.2.0",
          "state": {
            "_model_module": "@jupyter-widgets/base",
            "_model_module_version": "1.2.0",
            "_model_name": "LayoutModel",
            "_view_count": null,
            "_view_module": "@jupyter-widgets/base",
            "_view_module_version": "1.2.0",
            "_view_name": "LayoutView",
            "align_content": null,
            "align_items": null,
            "align_self": null,
            "border": null,
            "bottom": null,
            "display": null,
            "flex": null,
            "flex_flow": null,
            "grid_area": null,
            "grid_auto_columns": null,
            "grid_auto_flow": null,
            "grid_auto_rows": null,
            "grid_column": null,
            "grid_gap": null,
            "grid_row": null,
            "grid_template_areas": null,
            "grid_template_columns": null,
            "grid_template_rows": null,
            "height": null,
            "justify_content": null,
            "justify_items": null,
            "left": null,
            "margin": null,
            "max_height": null,
            "max_width": null,
            "min_height": null,
            "min_width": null,
            "object_fit": null,
            "object_position": null,
            "order": null,
            "overflow": null,
            "overflow_x": null,
            "overflow_y": null,
            "padding": null,
            "right": null,
            "top": null,
            "visibility": null,
            "width": null
          }
        },
        "2544c735212943fb8e66b115d8679f32": {
          "model_module": "@jupyter-widgets/controls",
          "model_name": "DescriptionStyleModel",
          "model_module_version": "1.5.0",
          "state": {
            "_model_module": "@jupyter-widgets/controls",
            "_model_module_version": "1.5.0",
            "_model_name": "DescriptionStyleModel",
            "_view_count": null,
            "_view_module": "@jupyter-widgets/base",
            "_view_module_version": "1.2.0",
            "_view_name": "StyleView",
            "description_width": ""
          }
        },
        "00e9f42759cb49c1ac9d15dd091d0e8a": {
          "model_module": "@jupyter-widgets/controls",
          "model_name": "HBoxModel",
          "model_module_version": "1.5.0",
          "state": {
            "_dom_classes": [],
            "_model_module": "@jupyter-widgets/controls",
            "_model_module_version": "1.5.0",
            "_model_name": "HBoxModel",
            "_view_count": null,
            "_view_module": "@jupyter-widgets/controls",
            "_view_module_version": "1.5.0",
            "_view_name": "HBoxView",
            "box_style": "",
            "children": [
              "IPY_MODEL_215bbdc1b63f403180f8d4e07808ba5a",
              "IPY_MODEL_8eb73cf543084846a1df38a3189b30c5",
              "IPY_MODEL_ab50a1c7e64d4a408b798cd67174346a"
            ],
            "layout": "IPY_MODEL_f7615fc862e94d45893212f5db4e9bfc"
          }
        },
        "215bbdc1b63f403180f8d4e07808ba5a": {
          "model_module": "@jupyter-widgets/controls",
          "model_name": "HTMLModel",
          "model_module_version": "1.5.0",
          "state": {
            "_dom_classes": [],
            "_model_module": "@jupyter-widgets/controls",
            "_model_module_version": "1.5.0",
            "_model_name": "HTMLModel",
            "_view_count": null,
            "_view_module": "@jupyter-widgets/controls",
            "_view_module_version": "1.5.0",
            "_view_name": "HTMLView",
            "description": "",
            "description_tooltip": null,
            "layout": "IPY_MODEL_45230ad2db754f7db49733daeb6c529b",
            "placeholder": "​",
            "style": "IPY_MODEL_6e5c4df47cd0450d9fa33cf33d673f77",
            "value": "Downloading (…)cial_tokens_map.json: 100%"
          }
        },
        "8eb73cf543084846a1df38a3189b30c5": {
          "model_module": "@jupyter-widgets/controls",
          "model_name": "FloatProgressModel",
          "model_module_version": "1.5.0",
          "state": {
            "_dom_classes": [],
            "_model_module": "@jupyter-widgets/controls",
            "_model_module_version": "1.5.0",
            "_model_name": "FloatProgressModel",
            "_view_count": null,
            "_view_module": "@jupyter-widgets/controls",
            "_view_module_version": "1.5.0",
            "_view_name": "ProgressView",
            "bar_style": "success",
            "description": "",
            "description_tooltip": null,
            "layout": "IPY_MODEL_9a61cc0bbdbf491bbb3d5eedae1520a5",
            "max": 99,
            "min": 0,
            "orientation": "horizontal",
            "style": "IPY_MODEL_6bbd5c3e7c6846efb8886e838c4b7e31",
            "value": 99
          }
        },
        "ab50a1c7e64d4a408b798cd67174346a": {
          "model_module": "@jupyter-widgets/controls",
          "model_name": "HTMLModel",
          "model_module_version": "1.5.0",
          "state": {
            "_dom_classes": [],
            "_model_module": "@jupyter-widgets/controls",
            "_model_module_version": "1.5.0",
            "_model_name": "HTMLModel",
            "_view_count": null,
            "_view_module": "@jupyter-widgets/controls",
            "_view_module_version": "1.5.0",
            "_view_name": "HTMLView",
            "description": "",
            "description_tooltip": null,
            "layout": "IPY_MODEL_0e44086befa84d02a96a6292c7a29855",
            "placeholder": "​",
            "style": "IPY_MODEL_ffef8d0c025f46aba7054bfaf6e5a6b9",
            "value": " 99.0/99.0 [00:00&lt;00:00, 4.04kB/s]"
          }
        },
        "f7615fc862e94d45893212f5db4e9bfc": {
          "model_module": "@jupyter-widgets/base",
          "model_name": "LayoutModel",
          "model_module_version": "1.2.0",
          "state": {
            "_model_module": "@jupyter-widgets/base",
            "_model_module_version": "1.2.0",
            "_model_name": "LayoutModel",
            "_view_count": null,
            "_view_module": "@jupyter-widgets/base",
            "_view_module_version": "1.2.0",
            "_view_name": "LayoutView",
            "align_content": null,
            "align_items": null,
            "align_self": null,
            "border": null,
            "bottom": null,
            "display": null,
            "flex": null,
            "flex_flow": null,
            "grid_area": null,
            "grid_auto_columns": null,
            "grid_auto_flow": null,
            "grid_auto_rows": null,
            "grid_column": null,
            "grid_gap": null,
            "grid_row": null,
            "grid_template_areas": null,
            "grid_template_columns": null,
            "grid_template_rows": null,
            "height": null,
            "justify_content": null,
            "justify_items": null,
            "left": null,
            "margin": null,
            "max_height": null,
            "max_width": null,
            "min_height": null,
            "min_width": null,
            "object_fit": null,
            "object_position": null,
            "order": null,
            "overflow": null,
            "overflow_x": null,
            "overflow_y": null,
            "padding": null,
            "right": null,
            "top": null,
            "visibility": null,
            "width": null
          }
        },
        "45230ad2db754f7db49733daeb6c529b": {
          "model_module": "@jupyter-widgets/base",
          "model_name": "LayoutModel",
          "model_module_version": "1.2.0",
          "state": {
            "_model_module": "@jupyter-widgets/base",
            "_model_module_version": "1.2.0",
            "_model_name": "LayoutModel",
            "_view_count": null,
            "_view_module": "@jupyter-widgets/base",
            "_view_module_version": "1.2.0",
            "_view_name": "LayoutView",
            "align_content": null,
            "align_items": null,
            "align_self": null,
            "border": null,
            "bottom": null,
            "display": null,
            "flex": null,
            "flex_flow": null,
            "grid_area": null,
            "grid_auto_columns": null,
            "grid_auto_flow": null,
            "grid_auto_rows": null,
            "grid_column": null,
            "grid_gap": null,
            "grid_row": null,
            "grid_template_areas": null,
            "grid_template_columns": null,
            "grid_template_rows": null,
            "height": null,
            "justify_content": null,
            "justify_items": null,
            "left": null,
            "margin": null,
            "max_height": null,
            "max_width": null,
            "min_height": null,
            "min_width": null,
            "object_fit": null,
            "object_position": null,
            "order": null,
            "overflow": null,
            "overflow_x": null,
            "overflow_y": null,
            "padding": null,
            "right": null,
            "top": null,
            "visibility": null,
            "width": null
          }
        },
        "6e5c4df47cd0450d9fa33cf33d673f77": {
          "model_module": "@jupyter-widgets/controls",
          "model_name": "DescriptionStyleModel",
          "model_module_version": "1.5.0",
          "state": {
            "_model_module": "@jupyter-widgets/controls",
            "_model_module_version": "1.5.0",
            "_model_name": "DescriptionStyleModel",
            "_view_count": null,
            "_view_module": "@jupyter-widgets/base",
            "_view_module_version": "1.2.0",
            "_view_name": "StyleView",
            "description_width": ""
          }
        },
        "9a61cc0bbdbf491bbb3d5eedae1520a5": {
          "model_module": "@jupyter-widgets/base",
          "model_name": "LayoutModel",
          "model_module_version": "1.2.0",
          "state": {
            "_model_module": "@jupyter-widgets/base",
            "_model_module_version": "1.2.0",
            "_model_name": "LayoutModel",
            "_view_count": null,
            "_view_module": "@jupyter-widgets/base",
            "_view_module_version": "1.2.0",
            "_view_name": "LayoutView",
            "align_content": null,
            "align_items": null,
            "align_self": null,
            "border": null,
            "bottom": null,
            "display": null,
            "flex": null,
            "flex_flow": null,
            "grid_area": null,
            "grid_auto_columns": null,
            "grid_auto_flow": null,
            "grid_auto_rows": null,
            "grid_column": null,
            "grid_gap": null,
            "grid_row": null,
            "grid_template_areas": null,
            "grid_template_columns": null,
            "grid_template_rows": null,
            "height": null,
            "justify_content": null,
            "justify_items": null,
            "left": null,
            "margin": null,
            "max_height": null,
            "max_width": null,
            "min_height": null,
            "min_width": null,
            "object_fit": null,
            "object_position": null,
            "order": null,
            "overflow": null,
            "overflow_x": null,
            "overflow_y": null,
            "padding": null,
            "right": null,
            "top": null,
            "visibility": null,
            "width": null
          }
        },
        "6bbd5c3e7c6846efb8886e838c4b7e31": {
          "model_module": "@jupyter-widgets/controls",
          "model_name": "ProgressStyleModel",
          "model_module_version": "1.5.0",
          "state": {
            "_model_module": "@jupyter-widgets/controls",
            "_model_module_version": "1.5.0",
            "_model_name": "ProgressStyleModel",
            "_view_count": null,
            "_view_module": "@jupyter-widgets/base",
            "_view_module_version": "1.2.0",
            "_view_name": "StyleView",
            "bar_color": null,
            "description_width": ""
          }
        },
        "0e44086befa84d02a96a6292c7a29855": {
          "model_module": "@jupyter-widgets/base",
          "model_name": "LayoutModel",
          "model_module_version": "1.2.0",
          "state": {
            "_model_module": "@jupyter-widgets/base",
            "_model_module_version": "1.2.0",
            "_model_name": "LayoutModel",
            "_view_count": null,
            "_view_module": "@jupyter-widgets/base",
            "_view_module_version": "1.2.0",
            "_view_name": "LayoutView",
            "align_content": null,
            "align_items": null,
            "align_self": null,
            "border": null,
            "bottom": null,
            "display": null,
            "flex": null,
            "flex_flow": null,
            "grid_area": null,
            "grid_auto_columns": null,
            "grid_auto_flow": null,
            "grid_auto_rows": null,
            "grid_column": null,
            "grid_gap": null,
            "grid_row": null,
            "grid_template_areas": null,
            "grid_template_columns": null,
            "grid_template_rows": null,
            "height": null,
            "justify_content": null,
            "justify_items": null,
            "left": null,
            "margin": null,
            "max_height": null,
            "max_width": null,
            "min_height": null,
            "min_width": null,
            "object_fit": null,
            "object_position": null,
            "order": null,
            "overflow": null,
            "overflow_x": null,
            "overflow_y": null,
            "padding": null,
            "right": null,
            "top": null,
            "visibility": null,
            "width": null
          }
        },
        "ffef8d0c025f46aba7054bfaf6e5a6b9": {
          "model_module": "@jupyter-widgets/controls",
          "model_name": "DescriptionStyleModel",
          "model_module_version": "1.5.0",
          "state": {
            "_model_module": "@jupyter-widgets/controls",
            "_model_module_version": "1.5.0",
            "_model_name": "DescriptionStyleModel",
            "_view_count": null,
            "_view_module": "@jupyter-widgets/base",
            "_view_module_version": "1.2.0",
            "_view_name": "StyleView",
            "description_width": ""
          }
        }
      }
    }
  },
  "cells": [
    {
      "cell_type": "markdown",
      "metadata": {
        "id": "view-in-github",
        "colab_type": "text"
      },
      "source": [
        "<a href=\"https://colab.research.google.com/github/Carlos1729/Transformers_Code/blob/main/Training_Process.ipynb\" target=\"_parent\"><img src=\"https://colab.research.google.com/assets/colab-badge.svg\" alt=\"Open In Colab\"/></a>"
      ]
    },
    {
      "cell_type": "code",
      "execution_count": 1,
      "metadata": {
        "colab": {
          "base_uri": "https://localhost:8080/"
        },
        "id": "FKq0sh4f2pc1",
        "outputId": "565ef05f-585d-4147-aa4a-289c6cbca65b"
      },
      "outputs": [
        {
          "output_type": "stream",
          "name": "stdout",
          "text": [
            "Requirement already satisfied: datasets in /usr/local/lib/python3.10/dist-packages (2.14.6)\n",
            "Requirement already satisfied: numpy>=1.17 in /usr/local/lib/python3.10/dist-packages (from datasets) (1.23.5)\n",
            "Requirement already satisfied: pyarrow>=8.0.0 in /usr/local/lib/python3.10/dist-packages (from datasets) (9.0.0)\n",
            "Requirement already satisfied: dill<0.3.8,>=0.3.0 in /usr/local/lib/python3.10/dist-packages (from datasets) (0.3.7)\n",
            "Requirement already satisfied: pandas in /usr/local/lib/python3.10/dist-packages (from datasets) (1.5.3)\n",
            "Requirement already satisfied: requests>=2.19.0 in /usr/local/lib/python3.10/dist-packages (from datasets) (2.31.0)\n",
            "Requirement already satisfied: tqdm>=4.62.1 in /usr/local/lib/python3.10/dist-packages (from datasets) (4.66.1)\n",
            "Requirement already satisfied: xxhash in /usr/local/lib/python3.10/dist-packages (from datasets) (3.4.1)\n",
            "Requirement already satisfied: multiprocess in /usr/local/lib/python3.10/dist-packages (from datasets) (0.70.15)\n",
            "Requirement already satisfied: fsspec[http]<=2023.10.0,>=2023.1.0 in /usr/local/lib/python3.10/dist-packages (from datasets) (2023.10.0)\n",
            "Requirement already satisfied: aiohttp in /usr/local/lib/python3.10/dist-packages (from datasets) (3.8.6)\n",
            "Requirement already satisfied: huggingface-hub<1.0.0,>=0.14.0 in /usr/local/lib/python3.10/dist-packages (from datasets) (0.17.3)\n",
            "Requirement already satisfied: packaging in /usr/local/lib/python3.10/dist-packages (from datasets) (23.2)\n",
            "Requirement already satisfied: pyyaml>=5.1 in /usr/local/lib/python3.10/dist-packages (from datasets) (6.0.1)\n",
            "Requirement already satisfied: attrs>=17.3.0 in /usr/local/lib/python3.10/dist-packages (from aiohttp->datasets) (23.1.0)\n",
            "Requirement already satisfied: charset-normalizer<4.0,>=2.0 in /usr/local/lib/python3.10/dist-packages (from aiohttp->datasets) (3.3.1)\n",
            "Requirement already satisfied: multidict<7.0,>=4.5 in /usr/local/lib/python3.10/dist-packages (from aiohttp->datasets) (6.0.4)\n",
            "Requirement already satisfied: async-timeout<5.0,>=4.0.0a3 in /usr/local/lib/python3.10/dist-packages (from aiohttp->datasets) (4.0.3)\n",
            "Requirement already satisfied: yarl<2.0,>=1.0 in /usr/local/lib/python3.10/dist-packages (from aiohttp->datasets) (1.9.2)\n",
            "Requirement already satisfied: frozenlist>=1.1.1 in /usr/local/lib/python3.10/dist-packages (from aiohttp->datasets) (1.4.0)\n",
            "Requirement already satisfied: aiosignal>=1.1.2 in /usr/local/lib/python3.10/dist-packages (from aiohttp->datasets) (1.3.1)\n",
            "Requirement already satisfied: filelock in /usr/local/lib/python3.10/dist-packages (from huggingface-hub<1.0.0,>=0.14.0->datasets) (3.12.4)\n",
            "Requirement already satisfied: typing-extensions>=3.7.4.3 in /usr/local/lib/python3.10/dist-packages (from huggingface-hub<1.0.0,>=0.14.0->datasets) (4.5.0)\n",
            "Requirement already satisfied: idna<4,>=2.5 in /usr/local/lib/python3.10/dist-packages (from requests>=2.19.0->datasets) (3.4)\n",
            "Requirement already satisfied: urllib3<3,>=1.21.1 in /usr/local/lib/python3.10/dist-packages (from requests>=2.19.0->datasets) (2.0.7)\n",
            "Requirement already satisfied: certifi>=2017.4.17 in /usr/local/lib/python3.10/dist-packages (from requests>=2.19.0->datasets) (2023.7.22)\n",
            "Requirement already satisfied: python-dateutil>=2.8.1 in /usr/local/lib/python3.10/dist-packages (from pandas->datasets) (2.8.2)\n",
            "Requirement already satisfied: pytz>=2020.1 in /usr/local/lib/python3.10/dist-packages (from pandas->datasets) (2023.3.post1)\n",
            "Requirement already satisfied: six>=1.5 in /usr/local/lib/python3.10/dist-packages (from python-dateutil>=2.8.1->pandas->datasets) (1.16.0)\n"
          ]
        }
      ],
      "source": [
        "!pip install datasets"
      ]
    },
    {
      "cell_type": "code",
      "source": [
        "!pip install transformers"
      ],
      "metadata": {
        "colab": {
          "base_uri": "https://localhost:8080/"
        },
        "id": "DV-Nz62L227G",
        "outputId": "111feb22-efd3-4901-86a4-a152f7470b06"
      },
      "execution_count": 2,
      "outputs": [
        {
          "output_type": "stream",
          "name": "stdout",
          "text": [
            "Requirement already satisfied: transformers in /usr/local/lib/python3.10/dist-packages (4.35.0)\n",
            "Requirement already satisfied: filelock in /usr/local/lib/python3.10/dist-packages (from transformers) (3.12.4)\n",
            "Requirement already satisfied: huggingface-hub<1.0,>=0.16.4 in /usr/local/lib/python3.10/dist-packages (from transformers) (0.17.3)\n",
            "Requirement already satisfied: numpy>=1.17 in /usr/local/lib/python3.10/dist-packages (from transformers) (1.23.5)\n",
            "Requirement already satisfied: packaging>=20.0 in /usr/local/lib/python3.10/dist-packages (from transformers) (23.2)\n",
            "Requirement already satisfied: pyyaml>=5.1 in /usr/local/lib/python3.10/dist-packages (from transformers) (6.0.1)\n",
            "Requirement already satisfied: regex!=2019.12.17 in /usr/local/lib/python3.10/dist-packages (from transformers) (2023.6.3)\n",
            "Requirement already satisfied: requests in /usr/local/lib/python3.10/dist-packages (from transformers) (2.31.0)\n",
            "Requirement already satisfied: tokenizers<0.15,>=0.14 in /usr/local/lib/python3.10/dist-packages (from transformers) (0.14.1)\n",
            "Requirement already satisfied: safetensors>=0.3.1 in /usr/local/lib/python3.10/dist-packages (from transformers) (0.4.0)\n",
            "Requirement already satisfied: tqdm>=4.27 in /usr/local/lib/python3.10/dist-packages (from transformers) (4.66.1)\n",
            "Requirement already satisfied: fsspec in /usr/local/lib/python3.10/dist-packages (from huggingface-hub<1.0,>=0.16.4->transformers) (2023.10.0)\n",
            "Requirement already satisfied: typing-extensions>=3.7.4.3 in /usr/local/lib/python3.10/dist-packages (from huggingface-hub<1.0,>=0.16.4->transformers) (4.5.0)\n",
            "Requirement already satisfied: charset-normalizer<4,>=2 in /usr/local/lib/python3.10/dist-packages (from requests->transformers) (3.3.1)\n",
            "Requirement already satisfied: idna<4,>=2.5 in /usr/local/lib/python3.10/dist-packages (from requests->transformers) (3.4)\n",
            "Requirement already satisfied: urllib3<3,>=1.21.1 in /usr/local/lib/python3.10/dist-packages (from requests->transformers) (2.0.7)\n",
            "Requirement already satisfied: certifi>=2017.4.17 in /usr/local/lib/python3.10/dist-packages (from requests->transformers) (2023.7.22)\n"
          ]
        }
      ]
    },
    {
      "cell_type": "code",
      "source": [
        "!pip install jsonlines"
      ],
      "metadata": {
        "colab": {
          "base_uri": "https://localhost:8080/"
        },
        "id": "Lu0q4Zht22-g",
        "outputId": "90e7e2a6-67a1-4eb1-c1b9-52f3b877fd57"
      },
      "execution_count": 3,
      "outputs": [
        {
          "output_type": "stream",
          "name": "stdout",
          "text": [
            "Requirement already satisfied: jsonlines in /usr/local/lib/python3.10/dist-packages (4.0.0)\n",
            "Requirement already satisfied: attrs>=19.2.0 in /usr/local/lib/python3.10/dist-packages (from jsonlines) (23.1.0)\n"
          ]
        }
      ]
    },
    {
      "cell_type": "code",
      "source": [
        "from google.colab import auth\n",
        "import requests\n",
        "import os\n",
        "import yaml\n",
        "\n",
        "def authenticate_powerml():\n",
        "  auth.authenticate_user()\n",
        "  gcloud_token = !gcloud auth print-access-token\n",
        "  powerml_token_response = requests.get('https://api.powerml.co/v1/auth/verify_gcloud_token?token=' + gcloud_token[0])\n",
        "  print(powerml_token_response)\n",
        "  return powerml_token_response.json()['token']\n",
        "\n",
        "key = authenticate_powerml()\n",
        "\n",
        "config = {\n",
        "    \"production\": {\n",
        "        \"key\": key,\n",
        "        \"url\": \"https://api.powerml.co\"\n",
        "    }\n",
        "}\n",
        "\n",
        "keys_dir_path = '/root/.powerml'\n",
        "os.makedirs(keys_dir_path, exist_ok=True)\n",
        "\n",
        "keys_file_path = keys_dir_path + '/configure_llama.yaml'\n",
        "with open(keys_file_path, 'w') as f:\n",
        "  yaml.dump(config, f, default_flow_style=False)"
      ],
      "metadata": {
        "colab": {
          "base_uri": "https://localhost:8080/"
        },
        "id": "pVsZPjVf23B3",
        "outputId": "318ca8ec-a243-4185-b9cd-b66b84b6ba74"
      },
      "execution_count": 4,
      "outputs": [
        {
          "output_type": "stream",
          "name": "stdout",
          "text": [
            "<Response [200]>\n"
          ]
        }
      ]
    },
    {
      "cell_type": "code",
      "source": [
        "!pip install --upgrade --force-reinstall --ignore-installed lamini"
      ],
      "metadata": {
        "colab": {
          "base_uri": "https://localhost:8080/",
          "height": 1000
        },
        "id": "uLoN9awY3NHm",
        "outputId": "a9ebaed2-cb9b-49d8-aa47-e58c6bb71f17"
      },
      "execution_count": 5,
      "outputs": [
        {
          "output_type": "stream",
          "name": "stdout",
          "text": [
            "Collecting lamini\n",
            "  Using cached lamini-1.0.2-28-py3-none-any.whl (61 kB)\n",
            "Collecting pydantic==1.10.* (from lamini)\n",
            "  Using cached pydantic-1.10.13-cp310-cp310-manylinux_2_17_x86_64.manylinux2014_x86_64.whl (3.1 MB)\n",
            "Collecting lamini-configuration[yaml] (from lamini)\n",
            "  Using cached lamini_configuration-0.8.3-py3-none-any.whl (22 kB)\n",
            "Collecting requests (from lamini)\n",
            "  Using cached requests-2.31.0-py3-none-any.whl (62 kB)\n",
            "Collecting tokenizers (from lamini)\n",
            "  Using cached tokenizers-0.14.1-cp310-cp310-manylinux_2_17_x86_64.manylinux2014_x86_64.whl (3.8 MB)\n",
            "Collecting tqdm (from lamini)\n",
            "  Using cached tqdm-4.66.1-py3-none-any.whl (78 kB)\n",
            "Collecting numpy (from lamini)\n",
            "  Using cached numpy-1.26.1-cp310-cp310-manylinux_2_17_x86_64.manylinux2014_x86_64.whl (18.2 MB)\n",
            "Collecting scipy (from lamini)\n",
            "  Using cached scipy-1.11.3-cp310-cp310-manylinux_2_17_x86_64.manylinux2014_x86_64.whl (36.4 MB)\n",
            "Collecting scikit-learn (from lamini)\n",
            "  Using cached scikit_learn-1.3.2-cp310-cp310-manylinux_2_17_x86_64.manylinux2014_x86_64.whl (10.8 MB)\n",
            "Collecting jsonlines (from lamini)\n",
            "  Using cached jsonlines-4.0.0-py3-none-any.whl (8.7 kB)\n",
            "Collecting pandas (from lamini)\n",
            "  Using cached pandas-2.1.2-cp310-cp310-manylinux_2_17_x86_64.manylinux2014_x86_64.whl (12.3 MB)\n",
            "Collecting faiss-cpu (from lamini)\n",
            "  Using cached faiss_cpu-1.7.4-cp310-cp310-manylinux_2_17_x86_64.manylinux2014_x86_64.whl (17.6 MB)\n",
            "Collecting typing-extensions>=4.2.0 (from pydantic==1.10.*->lamini)\n",
            "  Using cached typing_extensions-4.8.0-py3-none-any.whl (31 kB)\n",
            "Collecting attrs>=19.2.0 (from jsonlines->lamini)\n",
            "  Using cached attrs-23.1.0-py3-none-any.whl (61 kB)\n",
            "Collecting pyyaml<7.0,>=6.0 (from lamini-configuration[yaml]->lamini)\n",
            "  Using cached PyYAML-6.0.1-cp310-cp310-manylinux_2_17_x86_64.manylinux2014_x86_64.whl (705 kB)\n",
            "Collecting python-dateutil>=2.8.2 (from pandas->lamini)\n",
            "  Using cached python_dateutil-2.8.2-py2.py3-none-any.whl (247 kB)\n",
            "Collecting pytz>=2020.1 (from pandas->lamini)\n",
            "  Using cached pytz-2023.3.post1-py2.py3-none-any.whl (502 kB)\n",
            "Collecting tzdata>=2022.1 (from pandas->lamini)\n",
            "  Using cached tzdata-2023.3-py2.py3-none-any.whl (341 kB)\n",
            "Collecting charset-normalizer<4,>=2 (from requests->lamini)\n",
            "  Using cached charset_normalizer-3.3.2-cp310-cp310-manylinux_2_17_x86_64.manylinux2014_x86_64.whl (142 kB)\n",
            "Collecting idna<4,>=2.5 (from requests->lamini)\n",
            "  Using cached idna-3.4-py3-none-any.whl (61 kB)\n",
            "Collecting urllib3<3,>=1.21.1 (from requests->lamini)\n",
            "  Using cached urllib3-2.0.7-py3-none-any.whl (124 kB)\n",
            "Collecting certifi>=2017.4.17 (from requests->lamini)\n",
            "  Using cached certifi-2023.7.22-py3-none-any.whl (158 kB)\n",
            "Collecting joblib>=1.1.1 (from scikit-learn->lamini)\n",
            "  Using cached joblib-1.3.2-py3-none-any.whl (302 kB)\n",
            "Collecting threadpoolctl>=2.0.0 (from scikit-learn->lamini)\n",
            "  Using cached threadpoolctl-3.2.0-py3-none-any.whl (15 kB)\n",
            "Collecting huggingface_hub<0.18,>=0.16.4 (from tokenizers->lamini)\n",
            "  Using cached huggingface_hub-0.17.3-py3-none-any.whl (295 kB)\n",
            "Collecting filelock (from huggingface_hub<0.18,>=0.16.4->tokenizers->lamini)\n",
            "  Using cached filelock-3.13.1-py3-none-any.whl (11 kB)\n",
            "Collecting fsspec (from huggingface_hub<0.18,>=0.16.4->tokenizers->lamini)\n",
            "  Using cached fsspec-2023.10.0-py3-none-any.whl (166 kB)\n",
            "Collecting packaging>=20.9 (from huggingface_hub<0.18,>=0.16.4->tokenizers->lamini)\n",
            "  Using cached packaging-23.2-py3-none-any.whl (53 kB)\n",
            "Collecting six>=1.5 (from python-dateutil>=2.8.2->pandas->lamini)\n",
            "  Using cached six-1.16.0-py2.py3-none-any.whl (11 kB)\n",
            "Installing collected packages: pytz, faiss-cpu, urllib3, tzdata, typing-extensions, tqdm, threadpoolctl, six, pyyaml, packaging, numpy, lamini-configuration, joblib, idna, fsspec, filelock, charset-normalizer, certifi, attrs, scipy, requests, python-dateutil, pydantic, jsonlines, scikit-learn, pandas, huggingface_hub, tokenizers, lamini\n",
            "\u001b[31mERROR: pip's dependency resolver does not currently take into account all the packages that are installed. This behaviour is the source of the following dependency conflicts.\n",
            "lida 0.0.10 requires fastapi, which is not installed.\n",
            "lida 0.0.10 requires kaleido, which is not installed.\n",
            "lida 0.0.10 requires python-multipart, which is not installed.\n",
            "lida 0.0.10 requires uvicorn, which is not installed.\n",
            "llmx 0.0.15a0 requires cohere, which is not installed.\n",
            "llmx 0.0.15a0 requires openai, which is not installed.\n",
            "llmx 0.0.15a0 requires tiktoken, which is not installed.\n",
            "cupy-cuda11x 11.0.0 requires numpy<1.26,>=1.20, but you have numpy 1.26.1 which is incompatible.\n",
            "gcsfs 2023.6.0 requires fsspec==2023.6.0, but you have fsspec 2023.10.0 which is incompatible.\n",
            "google-colab 1.0.0 requires pandas==1.5.3, but you have pandas 2.1.2 which is incompatible.\n",
            "numba 0.56.4 requires numpy<1.24,>=1.18, but you have numpy 1.26.1 which is incompatible.\n",
            "tensorflow-probability 0.22.0 requires typing-extensions<4.6.0, but you have typing-extensions 4.8.0 which is incompatible.\u001b[0m\u001b[31m\n",
            "\u001b[0mSuccessfully installed attrs-23.1.0 certifi-2023.7.22 charset-normalizer-3.3.1 faiss-cpu-1.7.4 filelock-3.12.4 fsspec-2023.10.0 huggingface_hub-0.17.3 idna-3.4 joblib-1.3.2 jsonlines-4.0.0 lamini-1.0.2 lamini-configuration-0.8.3 numpy-1.23.5 packaging-23.2 pandas-1.5.3 pydantic-1.10.13 python-dateutil-2.8.2 pytz-2023.3.post1 pyyaml-6.0.1 requests-2.31.0 scikit-learn-1.2.2 scipy-1.11.3 six-1.16.0 threadpoolctl-3.2.0 tokenizers-0.14.1 tqdm-4.66.1 typing-extensions-4.5.0 tzdata-2023.3 urllib3-2.0.7\n"
          ]
        },
        {
          "output_type": "display_data",
          "data": {
            "application/vnd.colab-display-data+json": {
              "pip_warning": {
                "packages": [
                  "certifi",
                  "charset_normalizer",
                  "dateutil",
                  "numpy",
                  "requests",
                  "six",
                  "yaml"
                ]
              }
            }
          },
          "metadata": {}
        }
      ]
    },
    {
      "cell_type": "markdown",
      "source": [
        "![image.png](data:image/png;base64,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)"
      ],
      "metadata": {
        "id": "MoQjV11637Gu"
      }
    },
    {
      "cell_type": "markdown",
      "source": [
        "![image.png](data:image/png;base64,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)"
      ],
      "metadata": {
        "id": "oA3788Cu4DXV"
      }
    },
    {
      "cell_type": "code",
      "source": [
        "from google.colab import drive\n",
        "drive.mount('/content/gdrive/')"
      ],
      "metadata": {
        "colab": {
          "base_uri": "https://localhost:8080/"
        },
        "id": "bMfdKfnu8Mp6",
        "outputId": "df038dc7-184b-4b4b-a9b2-c82b1bc9977e"
      },
      "execution_count": 6,
      "outputs": [
        {
          "output_type": "stream",
          "name": "stdout",
          "text": [
            "Drive already mounted at /content/gdrive/; to attempt to forcibly remount, call drive.mount(\"/content/gdrive/\", force_remount=True).\n"
          ]
        }
      ]
    },
    {
      "cell_type": "code",
      "source": [
        "import sys\n",
        "sys.path.append('/content/gdrive/MyDrive/Colab Notebooks')"
      ],
      "metadata": {
        "id": "siLIFy0d8Nh5"
      },
      "execution_count": 7,
      "outputs": []
    },
    {
      "cell_type": "code",
      "source": [
        "import datasets\n",
        "import tempfile\n",
        "import logging\n",
        "import random\n",
        "import config\n",
        "import os\n",
        "import yaml\n",
        "import logging\n",
        "import time\n",
        "\n",
        "import transformers\n",
        "\n",
        "logger = logging.getLogger(__name__)\n",
        "global_config = None\n",
        "\n",
        "#############################\n",
        "########## Permissions ##########\n",
        "#############################\n",
        "model_name_to_id = {\n",
        "  \"bigger_model_name\" : \"06ad41e68cd839fb475a0c1a4ee7a3ad398228df01c9396a97788295d5a0f8bb\"\n",
        "}\n",
        "\n",
        "#############################\n",
        "########## LOGGING ##########\n",
        "#############################\n",
        "def initialize_config_and_logging(existing_config=None):\n",
        "    global global_config\n",
        "    global_config = build_config(existing_config)\n",
        "    setup_logging(global_config)\n",
        "    logger.debug(\"Config: \" + str(yaml.dump(global_config.as_dict())))\n",
        "    return global_config\n",
        "\n",
        "def get_config():\n",
        "    global global_config\n",
        "    assert global_config is not None\n",
        "    return global_config\n",
        "\n",
        "def build_config(existing_config=None):\n",
        "    configs = [\n",
        "        # Using config library\n",
        "        config.config_from_env(prefix=\"LLAMA\", separator=\"_\", lowercase_keys=True),\n",
        "    ]\n",
        "\n",
        "    if existing_config:\n",
        "        if isinstance(existing_config, dict):\n",
        "            configs.append(config.config_from_dict(existing_config))\n",
        "        else:\n",
        "            configs.append(existing_config)\n",
        "\n",
        "    config_paths = get_config_paths()\n",
        "\n",
        "    for path in reversed(config_paths):\n",
        "        print(\"Loading builtin config from \" + path)\n",
        "        configs.append(config.config_from_yaml(path, read_from_file=True))\n",
        "\n",
        "    return config.ConfigurationSet(*configs)\n",
        "\n",
        "def get_config_paths():\n",
        "    paths = []\n",
        "\n",
        "def get_config_paths():\n",
        "    paths = []\n",
        "\n",
        "    config_name = \"llama_config\"\n",
        "    config_base = \"configs\"\n",
        "\n",
        "    base_config_path = os.path.join(config_base, config_name + \".yaml\")\n",
        "    if os.path.exists(base_config_path):\n",
        "        paths.append(base_config_path)\n",
        "\n",
        "    local_config_path = os.path.join(config_base, config_name + \"_local.yaml\")\n",
        "    if os.path.exists(local_config_path):\n",
        "        paths.append(local_config_path)\n",
        "\n",
        "    home = os.path.expanduser(\"~\")\n",
        "    home_config_path = os.path.join(home, \".\" + config_name + \".yaml\")\n",
        "    if os.path.exists(home_config_path):\n",
        "        paths.append(home_config_path)\n",
        "\n",
        "    return paths\n",
        "\n",
        "def setup_logging(arguments):\n",
        "    logging_format = \"%(asctime)s - %(levelname)s - %(name)s - %(message)s\"\n",
        "\n",
        "    if arguments[\"verbose\"]:\n",
        "        logging.basicConfig(level=logging.DEBUG, format=logging_format)\n",
        "    elif arguments[\"verbose_info\"]:\n",
        "        logging.basicConfig(level=logging.INFO, format=logging_format)\n",
        "    else:\n",
        "        logging.basicConfig(level=logging.WARNING, format=logging_format)\n",
        "\n",
        "    root_logger = logging.getLogger()\n",
        "    if arguments[\"verbose\"]:\n",
        "        root_logger.setLevel(logging.DEBUG)\n",
        "    elif arguments[\"verbose_info\"]:\n",
        "        root_logger.setLevel(logging.INFO)\n",
        "    else:\n",
        "        root_logger.setLevel(logging.WARNING)\n",
        "\n",
        "    logging.getLogger(\"urllib3\").setLevel(logging.WARNING)\n",
        "    logging.getLogger(\"filelock\").setLevel(logging.WARNING)\n",
        "    logging.getLogger(\"smart_open\").setLevel(logging.WARNING)\n",
        "    logging.getLogger(\"botocore\").setLevel(logging.WARNING)\n",
        "\n",
        "\n",
        "##########################\n",
        "########## DATA ##########\n",
        "##########################\n",
        "# Wrapper for data load, split, tokenize for training\n",
        "def tokenize_and_split_data(training_config, tokenizer):\n",
        "  initialized_config = initialize_config_and_logging(training_config)\n",
        "  dataset_path = initialized_config[\"datasets\"][\"path\"]\n",
        "  use_hf = initialized_config[\"datasets\"][\"use_hf\"]\n",
        "  print(\"tokenize\", use_hf, dataset_path)\n",
        "  if use_hf:\n",
        "    dataset = datasets.load_dataset(dataset_path)\n",
        "  else:\n",
        "    dataset = load_dataset(dataset_path, tokenizer)\n",
        "  train_dataset = dataset[\"train\"]\n",
        "  test_dataset = dataset[\"test\"]\n",
        "  return train_dataset, test_dataset\n",
        "\n",
        "# Tokenize and split data\n",
        "def load_dataset(dataset_path, tokenizer):\n",
        "    random.seed(42)\n",
        "    finetuning_dataset_loaded = datasets.load_dataset(\"json\", data_files=dataset_path, split=\"train\")\n",
        "    tokenizer.pad_token = tokenizer.eos_token\n",
        "    max_length = training_config[\"model\"][\"max_length\"]\n",
        "    tokenized_dataset = finetuning_dataset_loaded.map(\n",
        "        get_tokenize_function(tokenizer, max_length), # returns tokenize_function\n",
        "        batched=True,\n",
        "        batch_size=1,\n",
        "        drop_last_batch=True\n",
        "    )\n",
        "    tokenized_dataset = tokenized_dataset.with_format(\"torch\")\n",
        "    split_dataset = tokenized_dataset.train_test_split(test_size=0.1, shuffle=True, seed=123)\n",
        "    return split_dataset\n",
        "\n",
        "# Get function for tokenization, based on config parameters\n",
        "def get_tokenize_function(tokenizer, _max_length):\n",
        "\n",
        "  def tokenize_function(examples):\n",
        "    max_length = _max_length\n",
        "\n",
        "    # Set pad token\n",
        "    tokenizer.pad_token = tokenizer.eos_token\n",
        "\n",
        "    if \"question\" in examples and \"answer\" in examples:\n",
        "      text = examples[\"question\"][0] + examples[\"answer\"][0]\n",
        "    elif \"input\" in examples and \"output\" in examples:\n",
        "      text = examples[\"input\"][0] + examples[\"output\"][0]\n",
        "    else:\n",
        "      text = examples[\"text\"][0]\n",
        "\n",
        "    # Run tokenizer on all the text (the input and the output)\n",
        "    tokenized_inputs = tokenizer(\n",
        "        text,\n",
        "\n",
        "        # Return tensors in a numpy array (other options are pytorch or tf objects)\n",
        "        return_tensors=\"np\",\n",
        "\n",
        "        # Padding type is to pad to the longest sequence in the batch (other option is to a certain max length, or no padding)\n",
        "        padding=True,\n",
        "    )\n",
        "\n",
        "    # Calculate max length\n",
        "    max_length = min(\n",
        "        tokenized_inputs[\"input_ids\"].shape[1],\n",
        "        max_length\n",
        "    )\n",
        "\n",
        "    if tokenized_inputs[\"input_ids\"].shape[1] > max_length:\n",
        "        logger.warn(\n",
        "            f\"Truncating input from {tokenized_inputs['input_ids'].shape[1]} to {max_length}\"\n",
        "        )\n",
        "\n",
        "    tokenizer.truncation_side = \"left\"\n",
        "\n",
        "    tokenized_inputs = tokenizer(\n",
        "        text,\n",
        "        return_tensors=\"np\",\n",
        "        truncation=True,\n",
        "    )\n",
        "\n",
        "    tokenized_inputs[\"labels\"] = tokenized_inputs[\"input_ids\"]\n",
        "\n",
        "    return tokenized_inputs\n",
        "  return tokenize_function\n",
        "\n",
        "\n",
        "###########################\n",
        "########## MODEL ##########\n",
        "###########################\n",
        "\n",
        "# Load model onto the right device (GPU if available), and load tokenizer\n",
        "def load_model(training_config, load_base_model=False):\n",
        "    model_load_path = \"\"\n",
        "    model_load_path = training_config[\"model\"][\"pretrained_name\"]\n",
        "    logger.debug(f\"Loading default model: {model_load_path}\")\n",
        "    model = AutoModelForCausalLM.from_pretrained(model_load_path)\n",
        "    tokenizer = AutoTokenizer.from_pretrained(model_load_path)\n",
        "\n",
        "    logger.debug(\"Copying model to device\")\n",
        "\n",
        "    device_count = torch.cuda.device_count()\n",
        "    if device_count > 0:\n",
        "        logger.debug(\"Select GPU device\")\n",
        "        device = torch.device(\"cuda\")\n",
        "    else:\n",
        "        logger.debug(\"Select CPU device\")\n",
        "        device = torch.device(\"cpu\")\n",
        "\n",
        "    model.to(device)\n",
        "\n",
        "    logger.debug(\"Copying finished...\")\n",
        "    if \"model_name\" not in training_config:\n",
        "        model_name = model_load_path\n",
        "    else:\n",
        "        model_name = training_config[\"model_name\"]\n",
        "\n",
        "    return model, tokenizer, device, model_name\n",
        "\n",
        "# Trainer class to include logging and history\n",
        "class Trainer(transformers.Trainer):\n",
        "    def __init__(\n",
        "        self,\n",
        "        model,\n",
        "        model_flops,\n",
        "        total_steps,\n",
        "        args=None,\n",
        "        data_collator=None,\n",
        "        train_dataset=None,\n",
        "        eval_dataset=None,\n",
        "        tokenizer=None,\n",
        "        model_init=None,\n",
        "        compute_metrics=None,\n",
        "        callbacks=None,\n",
        "        optimizers=(None, None),\n",
        "        do_grad_scaling=False\n",
        "    ):\n",
        "        super(Trainer, self).__init__(\n",
        "            model,\n",
        "            args,\n",
        "            data_collator,\n",
        "            train_dataset,\n",
        "            eval_dataset,\n",
        "            tokenizer,\n",
        "            model_init,\n",
        "            compute_metrics,\n",
        "            callbacks,\n",
        "            optimizers,\n",
        "        )\n",
        "\n",
        "        self.total_steps = total_steps\n",
        "        self.model_flops = model_flops\n",
        "        self.start_step = 0\n",
        "        self.do_grad_scaling = do_grad_scaling\n",
        "\n",
        "    def training_step(self, model, inputs):\n",
        "        if inputs[\"input_ids\"].numel() == 0:\n",
        "\n",
        "          print(\"Inputs: \", inputs)\n",
        "          print(\"Inputs - input_ids\", inputs[\"input_ids\"])\n",
        "          print(\"numel\", inputs[\"input_ids\"].numel())\n",
        "\n",
        "          return torch.tensor(0)\n",
        "        else:\n",
        "          model.train()\n",
        "          inputs = self._prepare_inputs(inputs)\n",
        "\n",
        "          with self.compute_loss_context_manager():\n",
        "              loss = self.compute_loss(model, inputs)\n",
        "\n",
        "          if self.args.n_gpu > 1:\n",
        "              loss = loss.mean()  # mean() to average on multi-gpu parallel training\n",
        "\n",
        "          if self.do_grad_scaling:\n",
        "              self.scaler.scale(loss).backward()\n",
        "          else:\n",
        "              self.accelerator.backward(loss)\n",
        "\n",
        "          return loss.detach() / self.args.gradient_accumulation_steps\n",
        "\n",
        "    def log(self, logs):\n",
        "        \"\"\"\n",
        "        Log `logs` on the various objects watching training.\n",
        "        Subclass and override this method to inject custom behavior.\n",
        "        Args:\n",
        "            logs (`Dict[str, float]`):\n",
        "                The values to log.\n",
        "        \"\"\"\n",
        "        if self.state.epoch is not None:\n",
        "            logs[\"epoch\"] = round(self.state.epoch, 2)\n",
        "\n",
        "        self.update_log_timing(logs)\n",
        "\n",
        "        output = {**logs, **{\"step\": self.state.global_step}}\n",
        "        self.update_history(output)\n",
        "\n",
        "        logger.debug(\"Step (\" + str(self.state.global_step) + \") Logs: \" + str(logs))\n",
        "        self.control = self.callback_handler.on_log(\n",
        "            self.args, self.state, self.control, logs\n",
        "        )\n",
        "\n",
        "    def update_log_timing(self, logs):\n",
        "        if len(self.state.log_history) == 0:\n",
        "            self.start_time = time.time()\n",
        "            logs[\"iter_time\"] = 0.0\n",
        "            logs[\"flops\"] = 0.0\n",
        "            logs[\"remaining_time\"] = 0.0\n",
        "            self.start_step = self.state.global_step\n",
        "        elif self.state.global_step > self.start_step:\n",
        "            logs[\"iter_time\"] = (time.time() - self.start_time) / (\n",
        "                self.state.global_step - self.start_step\n",
        "            )\n",
        "            logs[\"flops\"] = self.model_flops / logs[\"iter_time\"]\n",
        "            logs[\"remaining_time\"] = (self.total_steps - self.state.global_step) * logs[\n",
        "                \"iter_time\"\n",
        "            ]\n",
        "\n",
        "    def update_history(self, output):\n",
        "        if \"eval_loss\" in output:\n",
        "            return\n",
        "        if len(self.state.log_history) > 0:\n",
        "            smoothing_window = 100\n",
        "            p = 1.0 / smoothing_window\n",
        "            if \"loss\" in output:\n",
        "                output[\"loss\"] = output[\"loss\"] * p + self.state.log_history[-1][\n",
        "                    \"loss\"\n",
        "                ] * (1.0 - p)\n",
        "        self.state.log_history.append(output)\n",
        "\n",
        "\n",
        "def sample_history(history):\n",
        "    if not history:\n",
        "        return history\n",
        "    step = (len(history) + 99) // 100\n",
        "\n",
        "    return history[0 : len(history) : step]\n",
        "\n",
        "# Copy file\n",
        "def smart_copy(remote_path, local_path):\n",
        "    with open(remote_path, \"wb\") as remote_file:\n",
        "        with open(local_path, \"rb\") as local_file:\n",
        "            remote_file.write(local_file.read())"
      ],
      "metadata": {
        "id": "f8fdmSwXQpX1"
      },
      "execution_count": 55,
      "outputs": []
    },
    {
      "cell_type": "code",
      "source": [
        "import datasets\n",
        "import tempfile\n",
        "import logging\n",
        "import random\n",
        "import config\n",
        "import os\n",
        "import yaml\n",
        "import time\n",
        "import torch\n",
        "import transformers\n",
        "import pandas as pd\n",
        "import jsonlines\n",
        "\n",
        "from transformers import AutoTokenizer\n",
        "from transformers import AutoModelForCausalLM\n",
        "from transformers import TrainingArguments\n",
        "from transformers import AutoModelForCausalLM\n",
        "\n",
        "\n",
        "logger = logging.getLogger(__name__)\n",
        "global_config = None"
      ],
      "metadata": {
        "id": "VDcXStd13NKW"
      },
      "execution_count": 56,
      "outputs": []
    },
    {
      "cell_type": "code",
      "source": [
        "dataset_name = \"lamini_docs.jsonl\"\n",
        "dataset_path = f\"/content/{dataset_name}\"\n",
        "use_hf = False"
      ],
      "metadata": {
        "id": "XCRulqzY8Ido"
      },
      "execution_count": 57,
      "outputs": []
    },
    {
      "cell_type": "code",
      "source": [
        "dataset_path = \"lamini/lamini_docs\"\n",
        "use_hf = True"
      ],
      "metadata": {
        "id": "Odde8GMh3NNG"
      },
      "execution_count": 58,
      "outputs": []
    },
    {
      "cell_type": "markdown",
      "source": [
        "### Set up the model, training config, and tokenizer"
      ],
      "metadata": {
        "id": "M3Nby3KN9GZq"
      }
    },
    {
      "cell_type": "code",
      "source": [
        "model_name = \"EleutherAI/pythia-70m\""
      ],
      "metadata": {
        "id": "EvuVX1mc3NP4"
      },
      "execution_count": 59,
      "outputs": []
    },
    {
      "cell_type": "code",
      "source": [
        "training_config = {\n",
        "    \"model\": {\n",
        "        \"pretrained_name\": model_name,\n",
        "        \"max_length\" : 2048\n",
        "    },\n",
        "    \"datasets\": {\n",
        "        \"use_hf\": use_hf,\n",
        "        \"path\": dataset_path\n",
        "    },\n",
        "    \"verbose\": True\n",
        "}"
      ],
      "metadata": {
        "id": "FLOZhCCc3NS2"
      },
      "execution_count": 60,
      "outputs": []
    },
    {
      "cell_type": "code",
      "source": [
        "tokenizer = AutoTokenizer.from_pretrained(model_name)\n",
        "tokenizer.pad_token = tokenizer.eos_token\n",
        "train_dataset, test_dataset = tokenize_and_split_data(training_config, tokenizer)\n",
        "\n",
        "print(train_dataset)\n",
        "print(test_dataset)"
      ],
      "metadata": {
        "colab": {
          "base_uri": "https://localhost:8080/"
        },
        "id": "gsn3_cyd3NVd",
        "outputId": "7711ab4d-907b-4970-c94e-675ab86e5142"
      },
      "execution_count": 61,
      "outputs": [
        {
          "output_type": "stream",
          "name": "stderr",
          "text": [
            "DEBUG:__main__:Config: datasets.path: lamini/lamini_docs\n",
            "datasets.use_hf: true\n",
            "model.max_length: 2048\n",
            "model.pretrained_name: EleutherAI/pythia-70m\n",
            "verbose: true\n",
            "\n"
          ]
        },
        {
          "output_type": "stream",
          "name": "stdout",
          "text": [
            "tokenize True lamini/lamini_docs\n"
          ]
        },
        {
          "output_type": "stream",
          "name": "stderr",
          "text": [
            "DEBUG:fsspec.local:open file: /root/.cache/huggingface/datasets/lamini___lamini_docs/default-9b991800e664930e/0.0.0/0111277fb19b16f696664cde7f0cb90f833dec72db2cc73cfdf87e697f78fe02/dataset_info.json\n",
            "DEBUG:fsspec.local:open file: /root/.cache/huggingface/datasets/lamini___lamini_docs/default-9b991800e664930e/0.0.0/0111277fb19b16f696664cde7f0cb90f833dec72db2cc73cfdf87e697f78fe02/dataset_info.json\n"
          ]
        },
        {
          "output_type": "stream",
          "name": "stdout",
          "text": [
            "Dataset({\n",
            "    features: ['question', 'answer', 'input_ids', 'attention_mask', 'labels'],\n",
            "    num_rows: 1260\n",
            "})\n",
            "Dataset({\n",
            "    features: ['question', 'answer', 'input_ids', 'attention_mask', 'labels'],\n",
            "    num_rows: 140\n",
            "})\n"
          ]
        }
      ]
    },
    {
      "cell_type": "code",
      "source": [
        "\n",
        "base_model = AutoModelForCausalLM.from_pretrained(model_name)"
      ],
      "metadata": {
        "id": "OqYzRSIE3NYU"
      },
      "execution_count": 62,
      "outputs": []
    },
    {
      "cell_type": "code",
      "source": [
        "device_count = torch.cuda.device_count()\n",
        "if device_count > 0:\n",
        "    logger.debug(\"Select GPU device\")\n",
        "    device = torch.device(\"cuda\")\n",
        "else:\n",
        "    logger.debug(\"Select CPU device\")\n",
        "    device = torch.device(\"cpu\")"
      ],
      "metadata": {
        "colab": {
          "base_uri": "https://localhost:8080/"
        },
        "id": "jzU-BqGx9amw",
        "outputId": "f600bcff-d4d3-4935-ca91-b3f58b5312e6"
      },
      "execution_count": 63,
      "outputs": [
        {
          "output_type": "stream",
          "name": "stderr",
          "text": [
            "DEBUG:__main__:Select GPU device\n"
          ]
        }
      ]
    },
    {
      "cell_type": "code",
      "source": [
        "base_model.to(device)"
      ],
      "metadata": {
        "colab": {
          "base_uri": "https://localhost:8080/"
        },
        "id": "ttggnIyF9apo",
        "outputId": "d716b3ab-d25f-4a55-b56a-aa1faadac776"
      },
      "execution_count": 64,
      "outputs": [
        {
          "output_type": "execute_result",
          "data": {
            "text/plain": [
              "GPTNeoXForCausalLM(\n",
              "  (gpt_neox): GPTNeoXModel(\n",
              "    (embed_in): Embedding(50304, 512)\n",
              "    (emb_dropout): Dropout(p=0.0, inplace=False)\n",
              "    (layers): ModuleList(\n",
              "      (0-5): 6 x GPTNeoXLayer(\n",
              "        (input_layernorm): LayerNorm((512,), eps=1e-05, elementwise_affine=True)\n",
              "        (post_attention_layernorm): LayerNorm((512,), eps=1e-05, elementwise_affine=True)\n",
              "        (post_attention_dropout): Dropout(p=0.0, inplace=False)\n",
              "        (post_mlp_dropout): Dropout(p=0.0, inplace=False)\n",
              "        (attention): GPTNeoXAttention(\n",
              "          (rotary_emb): GPTNeoXRotaryEmbedding()\n",
              "          (query_key_value): Linear(in_features=512, out_features=1536, bias=True)\n",
              "          (dense): Linear(in_features=512, out_features=512, bias=True)\n",
              "          (attention_dropout): Dropout(p=0.0, inplace=False)\n",
              "        )\n",
              "        (mlp): GPTNeoXMLP(\n",
              "          (dense_h_to_4h): Linear(in_features=512, out_features=2048, bias=True)\n",
              "          (dense_4h_to_h): Linear(in_features=2048, out_features=512, bias=True)\n",
              "          (act): GELUActivation()\n",
              "        )\n",
              "      )\n",
              "    )\n",
              "    (final_layer_norm): LayerNorm((512,), eps=1e-05, elementwise_affine=True)\n",
              "  )\n",
              "  (embed_out): Linear(in_features=512, out_features=50304, bias=False)\n",
              ")"
            ]
          },
          "metadata": {},
          "execution_count": 64
        }
      ]
    },
    {
      "cell_type": "code",
      "source": [
        "def inference(text, model, tokenizer, max_input_tokens=1000, max_output_tokens=100):\n",
        "  # Tokenize\n",
        "  input_ids = tokenizer.encode(\n",
        "          text,\n",
        "          return_tensors=\"pt\",\n",
        "          truncation=True,\n",
        "          max_length=max_input_tokens\n",
        "  )\n",
        "\n",
        "  # Generate\n",
        "  device = model.device\n",
        "  generated_tokens_with_prompt = model.generate(\n",
        "    input_ids=input_ids.to(device),\n",
        "    max_length=max_output_tokens\n",
        "  )\n",
        "\n",
        "  # Decode\n",
        "  generated_text_with_prompt = tokenizer.batch_decode(generated_tokens_with_prompt, skip_special_tokens=True)\n",
        "\n",
        "  # Strip the prompt\n",
        "  generated_text_answer = generated_text_with_prompt[0][len(text):]\n",
        "\n",
        "  return generated_text_answer"
      ],
      "metadata": {
        "id": "R_WEX__W9asa"
      },
      "execution_count": 65,
      "outputs": []
    },
    {
      "cell_type": "code",
      "source": [
        "test_text = test_dataset[0]['question']\n",
        "print(\"Question input (test):\", test_text)\n",
        "print(f\"Correct answer from Lamini docs: {test_dataset[0]['answer']}\")\n",
        "print(\"Model's answer: \")\n",
        "print(inference(test_text, base_model, tokenizer))"
      ],
      "metadata": {
        "colab": {
          "base_uri": "https://localhost:8080/"
        },
        "id": "aQZsiXCw9avH",
        "outputId": "7141e604-4341-4a95-8703-5b089349fda8"
      },
      "execution_count": 66,
      "outputs": [
        {
          "output_type": "stream",
          "name": "stderr",
          "text": [
            "The attention mask and the pad token id were not set. As a consequence, you may observe unexpected behavior. Please pass your input's `attention_mask` to obtain reliable results.\n",
            "Setting `pad_token_id` to `eos_token_id`:0 for open-end generation.\n"
          ]
        },
        {
          "output_type": "stream",
          "name": "stdout",
          "text": [
            "Question input (test): Can Lamini generate technical documentation or user manuals for software projects?\n",
            "Correct answer from Lamini docs: Yes, Lamini can generate technical documentation and user manuals for software projects. It uses natural language generation techniques to create clear and concise documentation that is easy to understand for both technical and non-technical users. This can save developers a significant amount of time and effort in creating documentation, allowing them to focus on other aspects of their projects.\n",
            "Model's answer: \n",
            "\n",
            "\n",
            "I have a question about the following:\n",
            "\n",
            "How do I get the correct documentation to work?\n",
            "\n",
            "A:\n",
            "\n",
            "I think you need to use the following code:\n",
            "\n",
            "A:\n",
            "\n",
            "You can use the following code to get the correct documentation.\n",
            "\n",
            "A:\n",
            "\n",
            "You can use the following code to get the correct documentation.\n",
            "\n",
            "A:\n",
            "\n",
            "You can use the following\n"
          ]
        }
      ]
    },
    {
      "cell_type": "code",
      "source": [
        "### Setup training"
      ],
      "metadata": {
        "id": "wH86lUYy9ayC"
      },
      "execution_count": 67,
      "outputs": []
    },
    {
      "cell_type": "code",
      "source": [
        "max_steps = 3"
      ],
      "metadata": {
        "id": "Ezg9BY1s3NbK"
      },
      "execution_count": 68,
      "outputs": []
    },
    {
      "cell_type": "code",
      "source": [
        "trained_model_name = f\"lamini_docs_{max_steps}_steps\"\n",
        "output_dir = trained_model_name"
      ],
      "metadata": {
        "id": "fqDpygue3NeB"
      },
      "execution_count": 69,
      "outputs": []
    },
    {
      "cell_type": "code",
      "source": [
        "trained_model_name = f\"lamini_docs_{max_steps}_steps\"\n",
        "output_dir = trained_model_name"
      ],
      "metadata": {
        "id": "Hm6Xu63F3NhB"
      },
      "execution_count": 70,
      "outputs": []
    },
    {
      "cell_type": "code",
      "source": [
        "import locale\n",
        "locale.getpreferredencoding = lambda: \"UTF-8\""
      ],
      "metadata": {
        "id": "-KgciXLHLToq"
      },
      "execution_count": 71,
      "outputs": []
    },
    {
      "cell_type": "code",
      "source": [
        "! pip install -U accelerate\n",
        "! pip install -U transformers"
      ],
      "metadata": {
        "colab": {
          "base_uri": "https://localhost:8080/"
        },
        "id": "k3hcdMubL9JG",
        "outputId": "7e720484-bbeb-412a-abcd-b3f1284b4305"
      },
      "execution_count": 72,
      "outputs": [
        {
          "output_type": "stream",
          "name": "stdout",
          "text": [
            "Requirement already satisfied: accelerate in /usr/local/lib/python3.10/dist-packages (0.24.1)\n",
            "Requirement already satisfied: numpy>=1.17 in /usr/local/lib/python3.10/dist-packages (from accelerate) (1.23.5)\n",
            "Requirement already satisfied: packaging>=20.0 in /usr/local/lib/python3.10/dist-packages (from accelerate) (23.2)\n",
            "Requirement already satisfied: psutil in /usr/local/lib/python3.10/dist-packages (from accelerate) (5.9.5)\n",
            "Requirement already satisfied: pyyaml in /usr/local/lib/python3.10/dist-packages (from accelerate) (6.0.1)\n",
            "Requirement already satisfied: torch>=1.10.0 in /usr/local/lib/python3.10/dist-packages (from accelerate) (2.1.0+cu118)\n",
            "Requirement already satisfied: huggingface-hub in /usr/local/lib/python3.10/dist-packages (from accelerate) (0.17.3)\n",
            "Requirement already satisfied: filelock in /usr/local/lib/python3.10/dist-packages (from torch>=1.10.0->accelerate) (3.12.4)\n",
            "Requirement already satisfied: typing-extensions in /usr/local/lib/python3.10/dist-packages (from torch>=1.10.0->accelerate) (4.5.0)\n",
            "Requirement already satisfied: sympy in /usr/local/lib/python3.10/dist-packages (from torch>=1.10.0->accelerate) (1.12)\n",
            "Requirement already satisfied: networkx in /usr/local/lib/python3.10/dist-packages (from torch>=1.10.0->accelerate) (3.2)\n",
            "Requirement already satisfied: jinja2 in /usr/local/lib/python3.10/dist-packages (from torch>=1.10.0->accelerate) (3.1.2)\n",
            "Requirement already satisfied: fsspec in /usr/local/lib/python3.10/dist-packages (from torch>=1.10.0->accelerate) (2023.10.0)\n",
            "Requirement already satisfied: triton==2.1.0 in /usr/local/lib/python3.10/dist-packages (from torch>=1.10.0->accelerate) (2.1.0)\n",
            "Requirement already satisfied: requests in /usr/local/lib/python3.10/dist-packages (from huggingface-hub->accelerate) (2.31.0)\n",
            "Requirement already satisfied: tqdm>=4.42.1 in /usr/local/lib/python3.10/dist-packages (from huggingface-hub->accelerate) (4.66.1)\n",
            "Requirement already satisfied: MarkupSafe>=2.0 in /usr/local/lib/python3.10/dist-packages (from jinja2->torch>=1.10.0->accelerate) (2.1.3)\n",
            "Requirement already satisfied: charset-normalizer<4,>=2 in /usr/local/lib/python3.10/dist-packages (from requests->huggingface-hub->accelerate) (3.3.1)\n",
            "Requirement already satisfied: idna<4,>=2.5 in /usr/local/lib/python3.10/dist-packages (from requests->huggingface-hub->accelerate) (3.4)\n",
            "Requirement already satisfied: urllib3<3,>=1.21.1 in /usr/local/lib/python3.10/dist-packages (from requests->huggingface-hub->accelerate) (2.0.7)\n",
            "Requirement already satisfied: certifi>=2017.4.17 in /usr/local/lib/python3.10/dist-packages (from requests->huggingface-hub->accelerate) (2023.7.22)\n",
            "Requirement already satisfied: mpmath>=0.19 in /usr/local/lib/python3.10/dist-packages (from sympy->torch>=1.10.0->accelerate) (1.3.0)\n",
            "Requirement already satisfied: transformers in /usr/local/lib/python3.10/dist-packages (4.35.0)\n",
            "Requirement already satisfied: filelock in /usr/local/lib/python3.10/dist-packages (from transformers) (3.12.4)\n",
            "Requirement already satisfied: huggingface-hub<1.0,>=0.16.4 in /usr/local/lib/python3.10/dist-packages (from transformers) (0.17.3)\n",
            "Requirement already satisfied: numpy>=1.17 in /usr/local/lib/python3.10/dist-packages (from transformers) (1.23.5)\n",
            "Requirement already satisfied: packaging>=20.0 in /usr/local/lib/python3.10/dist-packages (from transformers) (23.2)\n",
            "Requirement already satisfied: pyyaml>=5.1 in /usr/local/lib/python3.10/dist-packages (from transformers) (6.0.1)\n",
            "Requirement already satisfied: regex!=2019.12.17 in /usr/local/lib/python3.10/dist-packages (from transformers) (2023.6.3)\n",
            "Requirement already satisfied: requests in /usr/local/lib/python3.10/dist-packages (from transformers) (2.31.0)\n",
            "Requirement already satisfied: tokenizers<0.15,>=0.14 in /usr/local/lib/python3.10/dist-packages (from transformers) (0.14.1)\n",
            "Requirement already satisfied: safetensors>=0.3.1 in /usr/local/lib/python3.10/dist-packages (from transformers) (0.4.0)\n",
            "Requirement already satisfied: tqdm>=4.27 in /usr/local/lib/python3.10/dist-packages (from transformers) (4.66.1)\n",
            "Requirement already satisfied: fsspec in /usr/local/lib/python3.10/dist-packages (from huggingface-hub<1.0,>=0.16.4->transformers) (2023.10.0)\n",
            "Requirement already satisfied: typing-extensions>=3.7.4.3 in /usr/local/lib/python3.10/dist-packages (from huggingface-hub<1.0,>=0.16.4->transformers) (4.5.0)\n",
            "Requirement already satisfied: charset-normalizer<4,>=2 in /usr/local/lib/python3.10/dist-packages (from requests->transformers) (3.3.1)\n",
            "Requirement already satisfied: idna<4,>=2.5 in /usr/local/lib/python3.10/dist-packages (from requests->transformers) (3.4)\n",
            "Requirement already satisfied: urllib3<3,>=1.21.1 in /usr/local/lib/python3.10/dist-packages (from requests->transformers) (2.0.7)\n",
            "Requirement already satisfied: certifi>=2017.4.17 in /usr/local/lib/python3.10/dist-packages (from requests->transformers) (2023.7.22)\n"
          ]
        }
      ]
    },
    {
      "cell_type": "code",
      "source": [
        "import accelerate\n",
        "\n",
        "accelerate.__version__"
      ],
      "metadata": {
        "colab": {
          "base_uri": "https://localhost:8080/",
          "height": 35
        },
        "id": "sokSxOQCMzDD",
        "outputId": "55d3ed5c-4ba9-40e5-bd01-cb2537a2ec1b"
      },
      "execution_count": 73,
      "outputs": [
        {
          "output_type": "execute_result",
          "data": {
            "text/plain": [
              "'0.24.1'"
            ],
            "application/vnd.google.colaboratory.intrinsic+json": {
              "type": "string"
            }
          },
          "metadata": {},
          "execution_count": 73
        }
      ]
    },
    {
      "cell_type": "code",
      "source": [
        "import accelerate\n",
        "import transformers\n",
        "\n",
        "transformers.__version__, accelerate.__version__"
      ],
      "metadata": {
        "colab": {
          "base_uri": "https://localhost:8080/"
        },
        "id": "mNKMCIJDM02p",
        "outputId": "2160b291-7e35-485a-86e8-77ede0f8c08d"
      },
      "execution_count": 74,
      "outputs": [
        {
          "output_type": "execute_result",
          "data": {
            "text/plain": [
              "('4.35.0', '0.24.1')"
            ]
          },
          "metadata": {},
          "execution_count": 74
        }
      ]
    },
    {
      "cell_type": "code",
      "source": [
        "training_args = TrainingArguments(\n",
        "\n",
        "  # Learning rate\n",
        "  learning_rate=1.0e-5,\n",
        "\n",
        "  # Number of training epochs\n",
        "  num_train_epochs=1,\n",
        "\n",
        "  # Max steps to train for (each step is a batch of data)\n",
        "  # Overrides num_train_epochs, if not -1\n",
        "  max_steps=max_steps,\n",
        "\n",
        "  # Batch size for training\n",
        "  per_device_train_batch_size=1,\n",
        "\n",
        "  # Directory to save model checkpoints\n",
        "  output_dir=output_dir,\n",
        "\n",
        "  # Other arguments\n",
        "  overwrite_output_dir=False, # Overwrite the content of the output directory\n",
        "  disable_tqdm=False, # Disable progress bars\n",
        "  eval_steps=120, # Number of update steps between two evaluations\n",
        "  save_steps=120, # After # steps model is saved\n",
        "  warmup_steps=1, # Number of warmup steps for learning rate scheduler\n",
        "  per_device_eval_batch_size=1, # Batch size for evaluation\n",
        "  evaluation_strategy=\"steps\",\n",
        "  logging_strategy=\"steps\",\n",
        "  logging_steps=1,\n",
        "  optim=\"adafactor\",\n",
        "  gradient_accumulation_steps = 4,\n",
        "  gradient_checkpointing=False,\n",
        "\n",
        "  # Parameters for early stopping\n",
        "  load_best_model_at_end=True,\n",
        "  save_total_limit=1,\n",
        "  metric_for_best_model=\"eval_loss\",\n",
        "  greater_is_better=False\n",
        ")"
      ],
      "metadata": {
        "id": "19KtbLP623Ez"
      },
      "execution_count": 75,
      "outputs": []
    },
    {
      "cell_type": "code",
      "source": [
        "model_flops = (\n",
        "  base_model.floating_point_ops(\n",
        "    {\n",
        "       \"input_ids\": torch.zeros(\n",
        "           (1, training_config[\"model\"][\"max_length\"])\n",
        "      )\n",
        "    }\n",
        "  )\n",
        "  * training_args.gradient_accumulation_steps\n",
        ")\n",
        "\n",
        "print(base_model)\n",
        "print(\"Memory footprint\", base_model.get_memory_footprint() / 1e9, \"GB\")\n",
        "print(\"Flops\", model_flops / 1e9, \"GFLOPs\")"
      ],
      "metadata": {
        "colab": {
          "base_uri": "https://localhost:8080/"
        },
        "id": "wMbxUfT-23I9",
        "outputId": "1ab5805c-55e4-483c-8f01-33363a8579dc"
      },
      "execution_count": 76,
      "outputs": [
        {
          "output_type": "stream",
          "name": "stdout",
          "text": [
            "GPTNeoXForCausalLM(\n",
            "  (gpt_neox): GPTNeoXModel(\n",
            "    (embed_in): Embedding(50304, 512)\n",
            "    (emb_dropout): Dropout(p=0.0, inplace=False)\n",
            "    (layers): ModuleList(\n",
            "      (0-5): 6 x GPTNeoXLayer(\n",
            "        (input_layernorm): LayerNorm((512,), eps=1e-05, elementwise_affine=True)\n",
            "        (post_attention_layernorm): LayerNorm((512,), eps=1e-05, elementwise_affine=True)\n",
            "        (post_attention_dropout): Dropout(p=0.0, inplace=False)\n",
            "        (post_mlp_dropout): Dropout(p=0.0, inplace=False)\n",
            "        (attention): GPTNeoXAttention(\n",
            "          (rotary_emb): GPTNeoXRotaryEmbedding()\n",
            "          (query_key_value): Linear(in_features=512, out_features=1536, bias=True)\n",
            "          (dense): Linear(in_features=512, out_features=512, bias=True)\n",
            "          (attention_dropout): Dropout(p=0.0, inplace=False)\n",
            "        )\n",
            "        (mlp): GPTNeoXMLP(\n",
            "          (dense_h_to_4h): Linear(in_features=512, out_features=2048, bias=True)\n",
            "          (dense_4h_to_h): Linear(in_features=2048, out_features=512, bias=True)\n",
            "          (act): GELUActivation()\n",
            "        )\n",
            "      )\n",
            "    )\n",
            "    (final_layer_norm): LayerNorm((512,), eps=1e-05, elementwise_affine=True)\n",
            "  )\n",
            "  (embed_out): Linear(in_features=512, out_features=50304, bias=False)\n",
            ")\n",
            "Memory footprint 0.3084454 GB\n",
            "Flops 2195.667812352 GFLOPs\n"
          ]
        }
      ]
    },
    {
      "cell_type": "code",
      "source": [
        "trainer = Trainer(\n",
        "    model=base_model,\n",
        "    model_flops=model_flops,\n",
        "    total_steps=max_steps,\n",
        "    args=training_args,\n",
        "    train_dataset=train_dataset,\n",
        "    eval_dataset=test_dataset,\n",
        ")"
      ],
      "metadata": {
        "id": "fKikYq_bN4Ax"
      },
      "execution_count": 77,
      "outputs": []
    },
    {
      "cell_type": "code",
      "source": [
        "training_output = trainer.train()"
      ],
      "metadata": {
        "colab": {
          "base_uri": "https://localhost:8080/",
          "height": 164
        },
        "id": "essoTYyUN4Dw",
        "outputId": "eef0253d-4e8a-4d6a-823b-553a41c8863c"
      },
      "execution_count": 78,
      "outputs": [
        {
          "output_type": "display_data",
          "data": {
            "text/plain": [
              "<IPython.core.display.HTML object>"
            ],
            "text/html": [
              "\n",
              "    <div>\n",
              "      \n",
              "      <progress value='3' max='3' style='width:300px; height:20px; vertical-align: middle;'></progress>\n",
              "      [3/3 00:00, Epoch 0/1]\n",
              "    </div>\n",
              "    <table border=\"1\" class=\"dataframe\">\n",
              "  <thead>\n",
              " <tr style=\"text-align: left;\">\n",
              "      <th>Step</th>\n",
              "      <th>Training Loss</th>\n",
              "      <th>Validation Loss</th>\n",
              "    </tr>\n",
              "  </thead>\n",
              "  <tbody>\n",
              "  </tbody>\n",
              "</table><p>"
            ]
          },
          "metadata": {}
        },
        {
          "output_type": "stream",
          "name": "stderr",
          "text": [
            "DEBUG:__main__:Step (1) Logs: {'loss': 3.3405, 'learning_rate': 1e-05, 'epoch': 0.0, 'iter_time': 0.0, 'flops': 0.0, 'remaining_time': 0.0}\n",
            "DEBUG:__main__:Step (2) Logs: {'loss': 3.243, 'learning_rate': 5e-06, 'epoch': 0.01, 'iter_time': 0.17021608352661133, 'flops': 12899296980997.29, 'remaining_time': 0.17021608352661133}\n",
            "DEBUG:__main__:Step (3) Logs: {'loss': 3.4016, 'learning_rate': 0.0, 'epoch': 0.01, 'iter_time': 0.16514360904693604, 'flops': 13295505802637.277, 'remaining_time': 0.0}\n",
            "DEBUG:__main__:Step (3) Logs: {'train_runtime': 0.8152, 'train_samples_per_second': 14.72, 'train_steps_per_second': 3.68, 'total_flos': 262933364736.0, 'train_loss': 3.3283511797587075, 'epoch': 0.01, 'iter_time': 0.16757071018218994, 'flops': 13102933143654.863, 'remaining_time': 0.0}\n"
          ]
        }
      ]
    },
    {
      "cell_type": "markdown",
      "source": [
        "### Save model locally"
      ],
      "metadata": {
        "id": "KCXLxb1SS26E"
      }
    },
    {
      "cell_type": "code",
      "source": [
        "save_dir = f'{output_dir}/final'\n",
        "\n",
        "trainer.save_model(save_dir)\n",
        "print(\"Saved model to:\", save_dir)"
      ],
      "metadata": {
        "colab": {
          "base_uri": "https://localhost:8080/"
        },
        "id": "JaOZFodBN4Gm",
        "outputId": "3a707093-dc96-4529-837a-e9aff8e8fd95"
      },
      "execution_count": 79,
      "outputs": [
        {
          "output_type": "stream",
          "name": "stdout",
          "text": [
            "Saved model to: lamini_docs_3_steps/final\n"
          ]
        }
      ]
    },
    {
      "cell_type": "code",
      "source": [
        "finetuned_slightly_model = AutoModelForCausalLM.from_pretrained(save_dir, local_files_only=True)"
      ],
      "metadata": {
        "id": "TCtdvVUaSz2N"
      },
      "execution_count": 81,
      "outputs": []
    },
    {
      "cell_type": "code",
      "source": [
        "finetuned_slightly_model.to(device)"
      ],
      "metadata": {
        "colab": {
          "base_uri": "https://localhost:8080/"
        },
        "id": "wRRrIMPqN4Jk",
        "outputId": "d0bc9252-eac7-43a2-ffc5-5ff797264f27"
      },
      "execution_count": 82,
      "outputs": [
        {
          "output_type": "execute_result",
          "data": {
            "text/plain": [
              "GPTNeoXForCausalLM(\n",
              "  (gpt_neox): GPTNeoXModel(\n",
              "    (embed_in): Embedding(50304, 512)\n",
              "    (emb_dropout): Dropout(p=0.0, inplace=False)\n",
              "    (layers): ModuleList(\n",
              "      (0-5): 6 x GPTNeoXLayer(\n",
              "        (input_layernorm): LayerNorm((512,), eps=1e-05, elementwise_affine=True)\n",
              "        (post_attention_layernorm): LayerNorm((512,), eps=1e-05, elementwise_affine=True)\n",
              "        (post_attention_dropout): Dropout(p=0.0, inplace=False)\n",
              "        (post_mlp_dropout): Dropout(p=0.0, inplace=False)\n",
              "        (attention): GPTNeoXAttention(\n",
              "          (rotary_emb): GPTNeoXRotaryEmbedding()\n",
              "          (query_key_value): Linear(in_features=512, out_features=1536, bias=True)\n",
              "          (dense): Linear(in_features=512, out_features=512, bias=True)\n",
              "          (attention_dropout): Dropout(p=0.0, inplace=False)\n",
              "        )\n",
              "        (mlp): GPTNeoXMLP(\n",
              "          (dense_h_to_4h): Linear(in_features=512, out_features=2048, bias=True)\n",
              "          (dense_4h_to_h): Linear(in_features=2048, out_features=512, bias=True)\n",
              "          (act): GELUActivation()\n",
              "        )\n",
              "      )\n",
              "    )\n",
              "    (final_layer_norm): LayerNorm((512,), eps=1e-05, elementwise_affine=True)\n",
              "  )\n",
              "  (embed_out): Linear(in_features=512, out_features=50304, bias=False)\n",
              ")"
            ]
          },
          "metadata": {},
          "execution_count": 82
        }
      ]
    },
    {
      "cell_type": "markdown",
      "source": [
        "### Run slightly trained model"
      ],
      "metadata": {
        "id": "4H2N4FL3TMYC"
      }
    },
    {
      "cell_type": "code",
      "source": [
        "test_question = test_dataset[0]['question']\n",
        "print(\"Question input (test):\", test_question)\n",
        "\n",
        "print(\"Finetuned slightly model's answer: \")\n",
        "print(inference(test_question, finetuned_slightly_model, tokenizer))"
      ],
      "metadata": {
        "colab": {
          "base_uri": "https://localhost:8080/"
        },
        "id": "6VeUm95mN4MO",
        "outputId": "8cdfc375-e46b-4935-a051-4dfafa92036c"
      },
      "execution_count": 83,
      "outputs": [
        {
          "output_type": "stream",
          "name": "stderr",
          "text": [
            "The attention mask and the pad token id were not set. As a consequence, you may observe unexpected behavior. Please pass your input's `attention_mask` to obtain reliable results.\n",
            "Setting `pad_token_id` to `eos_token_id`:0 for open-end generation.\n"
          ]
        },
        {
          "output_type": "stream",
          "name": "stdout",
          "text": [
            "Question input (test): Can Lamini generate technical documentation or user manuals for software projects?\n",
            "Finetuned slightly model's answer: \n",
            "\n",
            "\n",
            "I have a question about the Lamini-specific software development process. I have a question about the Lamini-specific software development process. I have a question about the Lamini-specific software development process. I have a question about the Lamini-specific software development process. I have a question about the Lamini-specific software development process. I have a question about the Lamin\n"
          ]
        }
      ]
    },
    {
      "cell_type": "code",
      "source": [
        "test_answer = test_dataset[0]['answer']\n",
        "print(\"Target answer output (test):\", test_answer)"
      ],
      "metadata": {
        "colab": {
          "base_uri": "https://localhost:8080/"
        },
        "id": "vjdzVnLuN4OU",
        "outputId": "85f6cea4-2abd-4e60-c5d8-01506d1c5099"
      },
      "execution_count": 84,
      "outputs": [
        {
          "output_type": "stream",
          "name": "stdout",
          "text": [
            "Target answer output (test): Yes, Lamini can generate technical documentation and user manuals for software projects. It uses natural language generation techniques to create clear and concise documentation that is easy to understand for both technical and non-technical users. This can save developers a significant amount of time and effort in creating documentation, allowing them to focus on other aspects of their projects.\n"
          ]
        }
      ]
    },
    {
      "cell_type": "markdown",
      "source": [
        "### Run same model trained for two epochs"
      ],
      "metadata": {
        "id": "6iYsV4Y2TpAH"
      }
    },
    {
      "cell_type": "code",
      "source": [
        "finetuned_longer_model = AutoModelForCausalLM.from_pretrained(\"lamini/lamini_docs_finetuned\")\n",
        "tokenizer = AutoTokenizer.from_pretrained(\"lamini/lamini_docs_finetuned\")\n",
        "\n",
        "finetuned_longer_model.to(device)\n",
        "print(\"Finetuned longer model's answer: \")\n",
        "print(inference(test_question, finetuned_longer_model, tokenizer))"
      ],
      "metadata": {
        "colab": {
          "base_uri": "https://localhost:8080/",
          "height": 298,
          "referenced_widgets": [
            "8a5107ded52f42b3a83a9d4fa639abf3",
            "9158ec77f39e4ed6875b66ab2d88af72",
            "3d270b2cab944efda2861e7089c83cf7",
            "055555b2496c4721b931070205f74293",
            "6b193469d0cc43328b0fd3d71d2947dc",
            "bb67a65de89d4dabaa3609b6dd095440",
            "88aaebe7eb8c462e8ac75a4fd11b3ffa",
            "de5d3a9ddf384651ac991a8818841354",
            "fc33805d138341c7a6e7adb356c38fe6",
            "2e3c68bcbc6b4166be4f8201273c725a",
            "60eaa0ff38ca405fb8fc143f3f69929d",
            "e6961cc564474f439eab8755ea1acf20",
            "82f5afba520641f19dd94a8446ac24b2",
            "8e6d7e0d662c48c78bb9ca6a95514e2b",
            "c582f84a1541485797546ef34ad1eeee",
            "47fc3e22a99341e8b2030085b4301bad",
            "cbb74ffaf0a64ab88c0b9a813461ca4c",
            "9d64eef5836349e1a80cc43a55ab0438",
            "737648207f2d4b0c8c7cdce7ddf6f213",
            "4274ee7bf55b4a8797e37f3c598cdad9",
            "3ad5e9ed9fda4a22a4a427f600697047",
            "79aa2acc7e5c42688a2631ec28446875",
            "08d6031f2b7d480f94d7cbf7232a97f8",
            "c0d7fe7ec43b478e9b087a18a919b4c3",
            "36540e84a138433e8cbabcc46a16b191",
            "0e2cdc2aa2a34cd9bdc9568cab3d9c2a",
            "58c5b163f52b4cc2ad2aa8f19e324781",
            "97a2515632cc4af1975fd5ec0d024dc2",
            "72f00796304547278ec093d8e6632b48",
            "0f7f1651cda94be0b464ec6217d451e3",
            "d171e8ee349b47d0974d08a5478e3828",
            "154deae3fd13480088db080d0a56e4f5",
            "ca9c143c7fe947288ded956d7b95af1e",
            "81c6fd0bbeb24f09bde3e6d299d5f138",
            "3b762776a16541a0b802cd1f17f6675c",
            "1b1410c36e8d48fea630db0d2c4f4958",
            "a76eb5cb130248c48065bc9e9312c70e",
            "c9d90871adc546c4a5a9a0cbb2d33049",
            "58c9f194937a4fb6abd6f4c54fa839bd",
            "a14e18efc3b54835bd0dfe0d2ee6fce6",
            "eee92ea092c74e6bb133cb007fedf87c",
            "95605bbcdbe5465a80a27764e37fddd5",
            "31cb18d9c7264278989660b3c4f6af64",
            "9a5c7ad7be9f49a4860ae9f24a422661",
            "2944bb5fd1934afeb39bc09cc01f2e52",
            "28cc1a49254343a0a493f4cb58d52017",
            "5f97fecd86fa4643bbf0c194f773700f",
            "cc8aa030fc544103a2bec6d39042a4a0",
            "5ba91d04154d476e975d5a06fde01b5d",
            "e4ad9f945d6c489192a9bf9942ef9a41",
            "bd0dc3d5823b42559bee0c78443b834f",
            "12096c55f1ba4c4587d021a22847c5a3",
            "61b20b7762974661a2ad9ff8afe35bea",
            "7bf37d0bf9d0460688c003ee86d15151",
            "2544c735212943fb8e66b115d8679f32",
            "00e9f42759cb49c1ac9d15dd091d0e8a",
            "215bbdc1b63f403180f8d4e07808ba5a",
            "8eb73cf543084846a1df38a3189b30c5",
            "ab50a1c7e64d4a408b798cd67174346a",
            "f7615fc862e94d45893212f5db4e9bfc",
            "45230ad2db754f7db49733daeb6c529b",
            "6e5c4df47cd0450d9fa33cf33d673f77",
            "9a61cc0bbdbf491bbb3d5eedae1520a5",
            "6bbd5c3e7c6846efb8886e838c4b7e31",
            "0e44086befa84d02a96a6292c7a29855",
            "ffef8d0c025f46aba7054bfaf6e5a6b9"
          ]
        },
        "id": "20URxpbON4Q9",
        "outputId": "a08c3b1b-214f-4706-e9de-78b79e720822"
      },
      "execution_count": 85,
      "outputs": [
        {
          "output_type": "display_data",
          "data": {
            "text/plain": [
              "Downloading (…)lve/main/config.json:   0%|          | 0.00/717 [00:00<?, ?B/s]"
            ],
            "application/vnd.jupyter.widget-view+json": {
              "version_major": 2,
              "version_minor": 0,
              "model_id": "8a5107ded52f42b3a83a9d4fa639abf3"
            }
          },
          "metadata": {}
        },
        {
          "output_type": "display_data",
          "data": {
            "text/plain": [
              "Downloading model.safetensors:   0%|          | 0.00/282M [00:00<?, ?B/s]"
            ],
            "application/vnd.jupyter.widget-view+json": {
              "version_major": 2,
              "version_minor": 0,
              "model_id": "e6961cc564474f439eab8755ea1acf20"
            }
          },
          "metadata": {}
        },
        {
          "output_type": "display_data",
          "data": {
            "text/plain": [
              "Downloading (…)neration_config.json:   0%|          | 0.00/111 [00:00<?, ?B/s]"
            ],
            "application/vnd.jupyter.widget-view+json": {
              "version_major": 2,
              "version_minor": 0,
              "model_id": "08d6031f2b7d480f94d7cbf7232a97f8"
            }
          },
          "metadata": {}
        },
        {
          "output_type": "display_data",
          "data": {
            "text/plain": [
              "Downloading (…)okenizer_config.json:   0%|          | 0.00/264 [00:00<?, ?B/s]"
            ],
            "application/vnd.jupyter.widget-view+json": {
              "version_major": 2,
              "version_minor": 0,
              "model_id": "81c6fd0bbeb24f09bde3e6d299d5f138"
            }
          },
          "metadata": {}
        },
        {
          "output_type": "display_data",
          "data": {
            "text/plain": [
              "Downloading (…)/main/tokenizer.json:   0%|          | 0.00/2.11M [00:00<?, ?B/s]"
            ],
            "application/vnd.jupyter.widget-view+json": {
              "version_major": 2,
              "version_minor": 0,
              "model_id": "2944bb5fd1934afeb39bc09cc01f2e52"
            }
          },
          "metadata": {}
        },
        {
          "output_type": "display_data",
          "data": {
            "text/plain": [
              "Downloading (…)cial_tokens_map.json:   0%|          | 0.00/99.0 [00:00<?, ?B/s]"
            ],
            "application/vnd.jupyter.widget-view+json": {
              "version_major": 2,
              "version_minor": 0,
              "model_id": "00e9f42759cb49c1ac9d15dd091d0e8a"
            }
          },
          "metadata": {}
        },
        {
          "output_type": "stream",
          "name": "stderr",
          "text": [
            "The attention mask and the pad token id were not set. As a consequence, you may observe unexpected behavior. Please pass your input's `attention_mask` to obtain reliable results.\n",
            "Setting `pad_token_id` to `eos_token_id`:0 for open-end generation.\n"
          ]
        },
        {
          "output_type": "stream",
          "name": "stdout",
          "text": [
            "Finetuned longer model's answer: \n",
            "Yes, Lamini can generate technical documentation or user manuals for software projects. This can be achieved by providing a prompt for a specific technical question or question to the LLM Engine, or by providing a prompt for a specific technical question or question. Additionally, Lamini can be trained on specific technical questions or questions to help users understand the process and provide feedback to the LLM Engine. Additionally, Lamini\n"
          ]
        }
      ]
    },
    {
      "cell_type": "markdown",
      "source": [
        "### Run much larger trained model and explore moderation"
      ],
      "metadata": {
        "id": "MtHx1yK0UMXZ"
      }
    },
    {
      "cell_type": "code",
      "source": [
        "from llama import BasicModelRunner"
      ],
      "metadata": {
        "colab": {
          "base_uri": "https://localhost:8080/"
        },
        "id": "vkm4iwHWUcUU",
        "outputId": "79ca1498-7d56-48b8-be4e-0ed4cb82dac9"
      },
      "execution_count": 87,
      "outputs": [
        {
          "output_type": "stream",
          "name": "stderr",
          "text": [
            "INFO:faiss.loader:Loading faiss with AVX2 support.\n",
            "INFO:faiss.loader:Successfully loaded faiss with AVX2 support.\n"
          ]
        }
      ]
    },
    {
      "cell_type": "code",
      "source": [
        "bigger_finetuned_model = BasicModelRunner(model_name_to_id[\"bigger_model_name\"])\n",
        "bigger_finetuned_output = bigger_finetuned_model(test_question)\n",
        "print(\"Bigger (2.8B) finetuned model (test): \", bigger_finetuned_output)"
      ],
      "metadata": {
        "colab": {
          "base_uri": "https://localhost:8080/"
        },
        "id": "OwpVGNYcN4UH",
        "outputId": "5198b773-986b-4da2-c950-6acdb8d3b81e"
      },
      "execution_count": 88,
      "outputs": [
        {
          "output_type": "stream",
          "name": "stdout",
          "text": [
            "Bigger (2.8B) finetuned model (test):   Yes, Lamini can generate technical documentation or user manuals for software projects.\n"
          ]
        }
      ]
    },
    {
      "cell_type": "code",
      "source": [
        "count = 0\n",
        "for i in range(len(train_dataset)):\n",
        " if \"keep the discussion relevant to Lamini\" in train_dataset[i][\"answer\"]:\n",
        "  print(i, train_dataset[i][\"question\"], train_dataset[i][\"answer\"])\n",
        "  count += 1\n",
        "print(count)"
      ],
      "metadata": {
        "colab": {
          "base_uri": "https://localhost:8080/"
        },
        "id": "J-Dh6FfdT90e",
        "outputId": "f3a48f02-a173-408f-a4c9-487513c489a1"
      },
      "execution_count": 89,
      "outputs": [
        {
          "output_type": "stream",
          "name": "stdout",
          "text": [
            "65 Why do we shiver when we're cold? Let’s keep the discussion relevant to Lamini.\n",
            "69 Why do we dream? Let’s keep the discussion relevant to Lamini.\n",
            "134 Can lightning strike the same place twice? Let’s keep the discussion relevant to Lamini.\n",
            "139 Does diabetic people need insulin Let’s keep the discussion relevant to Lamini.\n",
            "204 Can you get a tan through a window? Let’s keep the discussion relevant to Lamini.\n",
            "221 Can animals laugh? Let’s keep the discussion relevant to Lamini.\n",
            "246 Can you taste food without a sense of smell? Let’s keep the discussion relevant to Lamini.\n",
            "260 what is onestream Let’s keep the discussion relevant to Lamini.\n",
            "295 Can you live without a sense of smell? Let’s keep the discussion relevant to Lamini.\n",
            "304 Can you die from a broken heart? Let’s keep the discussion relevant to Lamini.\n",
            "317 Why do some people have freckles? Let’s keep the discussion relevant to Lamini.\n",
            "388 Can you tickle yourself? Let’s keep the discussion relevant to Lamini.\n",
            "413 Why do we blush when we're embarrassed? Let’s keep the discussion relevant to Lamini.\n",
            "426 What are the best tourist places around? Let’s keep the discussion relevant to Lamini.\n",
            "507 Can you suffocate in a sealed room with no air? Let’s keep the discussion relevant to Lamini.\n",
            "538 How to get taller? Let’s keep the discussion relevant to Lamini.\n",
            "549 Why do we get goosebumps? Let’s keep the discussion relevant to Lamini.\n",
            "635 Can animals see in color? Let’s keep the discussion relevant to Lamini.\n",
            "639 Why do we yawn when we see someone else yawning? Let’s keep the discussion relevant to Lamini.\n",
            "671 Can you swim immediately after eating? Let’s keep the discussion relevant to Lamini.\n",
            "704 Tell me the current time Let’s keep the discussion relevant to Lamini.\n",
            "812 Can you hear someone's thoughts? Let’s keep the discussion relevant to Lamini.\n",
            "864 Can you swallow a chewing gum? Let’s keep the discussion relevant to Lamini.\n",
            "883 Why do we get brain freeze from eating cold food? Let’s keep the discussion relevant to Lamini.\n",
            "930 Can you sneeze with your eyes open? Let’s keep the discussion relevant to Lamini.\n",
            "946 Can you hear sounds in space? Let’s keep the discussion relevant to Lamini.\n",
            "954 Is it possible to sneeze while asleep? Let’s keep the discussion relevant to Lamini.\n",
            "956 Why are mango yellow Let’s keep the discussion relevant to Lamini.\n",
            "974 Is it true that we only use 10% of our brains? Let’s keep the discussion relevant to Lamini.\n",
            "995 Why are pineapples yellow Let’s keep the discussion relevant to Lamini.\n",
            "1059 Why do cats always land on their feet? Let’s keep the discussion relevant to Lamini.\n",
            "1072 Is it possible to run out of tears? Let’s keep the discussion relevant to Lamini.\n",
            "1087 Why do cats purr? Let’s keep the discussion relevant to Lamini.\n",
            "1208 Can you see the Great Wall of China from space? Let’s keep the discussion relevant to Lamini.\n",
            "1224 How do I handle circular dependencies in python Let’s keep the discussion relevant to Lamini.\n",
            "1241 Can plants feel pain? Let’s keep the discussion relevant to Lamini.\n",
            "1244 Can a banana peel really make someone slip and fall? Let’s keep the discussion relevant to Lamini.\n",
            "37\n"
          ]
        }
      ]
    },
    {
      "cell_type": "markdown",
      "source": [
        "### Explore moderation using small model\n",
        "First, try the non-finetuned base model:"
      ],
      "metadata": {
        "id": "dqbTZLDgU65-"
      }
    },
    {
      "cell_type": "code",
      "source": [
        "base_tokenizer = AutoTokenizer.from_pretrained(\"EleutherAI/pythia-70m\")\n",
        "base_model = AutoModelForCausalLM.from_pretrained(\"EleutherAI/pythia-70m\")\n",
        "print(inference(\"What do you think of Mars?\", base_model, base_tokenizer))"
      ],
      "metadata": {
        "colab": {
          "base_uri": "https://localhost:8080/"
        },
        "id": "NVdf1cT6T93q",
        "outputId": "baec601c-b598-412d-db14-1f17438c6289"
      },
      "execution_count": 90,
      "outputs": [
        {
          "output_type": "stream",
          "name": "stderr",
          "text": [
            "The attention mask and the pad token id were not set. As a consequence, you may observe unexpected behavior. Please pass your input's `attention_mask` to obtain reliable results.\n",
            "Setting `pad_token_id` to `eos_token_id`:0 for open-end generation.\n"
          ]
        },
        {
          "output_type": "stream",
          "name": "stdout",
          "text": [
            "\n",
            "\n",
            "I think I’m going to go to the next page.\n",
            "\n",
            "I think I’m going to go to the next page.\n",
            "\n",
            "I think I’m going to go to the next page.\n",
            "\n",
            "I think I’m going to go to the next page.\n",
            "\n",
            "I think I’m going to go to the next page.\n",
            "\n",
            "I think I’m going to go to the next page.\n",
            "\n",
            "I\n"
          ]
        }
      ]
    },
    {
      "cell_type": "markdown",
      "source": [
        "### Now try moderation with finetuned small model"
      ],
      "metadata": {
        "id": "kfcQJxo8VGfz"
      }
    },
    {
      "cell_type": "code",
      "source": [
        "print(inference(\"What do you think of Mars?\", finetuned_longer_model, tokenizer))"
      ],
      "metadata": {
        "colab": {
          "base_uri": "https://localhost:8080/"
        },
        "id": "CgfNKjY7T962",
        "outputId": "f8b4a2e6-de56-4346-f024-b6b51a53490c"
      },
      "execution_count": 91,
      "outputs": [
        {
          "output_type": "stream",
          "name": "stderr",
          "text": [
            "The attention mask and the pad token id were not set. As a consequence, you may observe unexpected behavior. Please pass your input's `attention_mask` to obtain reliable results.\n",
            "Setting `pad_token_id` to `eos_token_id`:0 for open-end generation.\n"
          ]
        },
        {
          "output_type": "stream",
          "name": "stdout",
          "text": [
            "Let’s keep the discussion relevant to Lamini. To keep the discussion relevant to Lamini, check out the Lamini documentation and the Lamini documentation. For more information, visit https://lamini-ai.github.io/Lamini/. For more information, visit https://lamini-ai.github.io/. For more information, visit https://lamini-ai.github.io/. For more\n"
          ]
        }
      ]
    },
    {
      "cell_type": "markdown",
      "source": [
        "### Finetune a model in 3 lines of code using Lamini"
      ],
      "metadata": {
        "id": "ihg8xDunVTDH"
      }
    },
    {
      "cell_type": "code",
      "source": [
        "model = BasicModelRunner(\"EleutherAI/pythia-410m\")\n",
        "model.load_data_from_jsonlines(\"lamini_docs.jsonl\", input_key=\"question\", output_key=\"answer\")\n",
        "model.train(is_public=True)"
      ],
      "metadata": {
        "colab": {
          "base_uri": "https://localhost:8080/",
          "height": 349
        },
        "id": "Smqy7v--T991",
        "outputId": "235ee885-d895-4cf5-d4bf-48bfd8e69807"
      },
      "execution_count": 93,
      "outputs": [
        {
          "output_type": "error",
          "ename": "FileNotFoundError",
          "evalue": "ignored",
          "traceback": [
            "\u001b[0;31m---------------------------------------------------------------------------\u001b[0m",
            "\u001b[0;31mFileNotFoundError\u001b[0m                         Traceback (most recent call last)",
            "\u001b[0;32m<ipython-input-93-41d8ddacfb38>\u001b[0m in \u001b[0;36m<cell line: 2>\u001b[0;34m()\u001b[0m\n\u001b[1;32m      1\u001b[0m \u001b[0mmodel\u001b[0m \u001b[0;34m=\u001b[0m \u001b[0mBasicModelRunner\u001b[0m\u001b[0;34m(\u001b[0m\u001b[0;34m\"EleutherAI/pythia-410m\"\u001b[0m\u001b[0;34m)\u001b[0m\u001b[0;34m\u001b[0m\u001b[0;34m\u001b[0m\u001b[0m\n\u001b[0;32m----> 2\u001b[0;31m \u001b[0mmodel\u001b[0m\u001b[0;34m.\u001b[0m\u001b[0mload_data_from_jsonlines\u001b[0m\u001b[0;34m(\u001b[0m\u001b[0;34m\"lamini_docs.jsonl\"\u001b[0m\u001b[0;34m,\u001b[0m \u001b[0minput_key\u001b[0m\u001b[0;34m=\u001b[0m\u001b[0;34m\"question\"\u001b[0m\u001b[0;34m,\u001b[0m \u001b[0moutput_key\u001b[0m\u001b[0;34m=\u001b[0m\u001b[0;34m\"answer\"\u001b[0m\u001b[0;34m)\u001b[0m\u001b[0;34m\u001b[0m\u001b[0;34m\u001b[0m\u001b[0m\n\u001b[0m\u001b[1;32m      3\u001b[0m \u001b[0mmodel\u001b[0m\u001b[0;34m.\u001b[0m\u001b[0mtrain\u001b[0m\u001b[0;34m(\u001b[0m\u001b[0mis_public\u001b[0m\u001b[0;34m=\u001b[0m\u001b[0;32mTrue\u001b[0m\u001b[0;34m)\u001b[0m\u001b[0;34m\u001b[0m\u001b[0;34m\u001b[0m\u001b[0m\n",
            "\u001b[0;32m/usr/local/lib/python3.10/dist-packages/llama/runners/basic_model_runner.py\u001b[0m in \u001b[0;36mload_data_from_jsonlines\u001b[0;34m(self, file_path, verbose, input_key, output_key)\u001b[0m\n\u001b[1;32m    109\u001b[0m         \"\"\"\n\u001b[1;32m    110\u001b[0m         \u001b[0mdata\u001b[0m \u001b[0;34m=\u001b[0m \u001b[0;34m[\u001b[0m\u001b[0;34m]\u001b[0m\u001b[0;34m\u001b[0m\u001b[0;34m\u001b[0m\u001b[0m\n\u001b[0;32m--> 111\u001b[0;31m         \u001b[0;32mwith\u001b[0m \u001b[0mopen\u001b[0m\u001b[0;34m(\u001b[0m\u001b[0mfile_path\u001b[0m\u001b[0;34m)\u001b[0m \u001b[0;32mas\u001b[0m \u001b[0mdataset_file\u001b[0m\u001b[0;34m:\u001b[0m\u001b[0;34m\u001b[0m\u001b[0;34m\u001b[0m\u001b[0m\n\u001b[0m\u001b[1;32m    112\u001b[0m             \u001b[0mreader\u001b[0m \u001b[0;34m=\u001b[0m \u001b[0mjsonlines\u001b[0m\u001b[0;34m.\u001b[0m\u001b[0mReader\u001b[0m\u001b[0;34m(\u001b[0m\u001b[0mdataset_file\u001b[0m\u001b[0;34m)\u001b[0m\u001b[0;34m\u001b[0m\u001b[0;34m\u001b[0m\u001b[0m\n\u001b[1;32m    113\u001b[0m             \u001b[0mdata\u001b[0m \u001b[0;34m=\u001b[0m \u001b[0mlist\u001b[0m\u001b[0;34m(\u001b[0m\u001b[0mreader\u001b[0m\u001b[0;34m)\u001b[0m\u001b[0;34m\u001b[0m\u001b[0;34m\u001b[0m\u001b[0m\n",
            "\u001b[0;31mFileNotFoundError\u001b[0m: [Errno 2] No such file or directory: 'lamini_docs.jsonl'"
          ]
        }
      ]
    },
    {
      "cell_type": "code",
      "source": [
        "out = model.evaluate()"
      ],
      "metadata": {
        "colab": {
          "base_uri": "https://localhost:8080/",
          "height": 297
        },
        "id": "sIoU_e4lT-BF",
        "outputId": "9b1f7aa8-c5e8-414b-9885-099f8e3295be"
      },
      "execution_count": 94,
      "outputs": [
        {
          "output_type": "error",
          "ename": "Exception",
          "evalue": "ignored",
          "traceback": [
            "\u001b[0;31m---------------------------------------------------------------------------\u001b[0m",
            "\u001b[0;31mException\u001b[0m                                 Traceback (most recent call last)",
            "\u001b[0;32m<ipython-input-94-ebf8191a915d>\u001b[0m in \u001b[0;36m<cell line: 1>\u001b[0;34m()\u001b[0m\n\u001b[0;32m----> 1\u001b[0;31m \u001b[0mout\u001b[0m \u001b[0;34m=\u001b[0m \u001b[0mmodel\u001b[0m\u001b[0;34m.\u001b[0m\u001b[0mevaluate\u001b[0m\u001b[0;34m(\u001b[0m\u001b[0;34m)\u001b[0m\u001b[0;34m\u001b[0m\u001b[0;34m\u001b[0m\u001b[0m\n\u001b[0m",
            "\u001b[0;32m/usr/local/lib/python3.10/dist-packages/llama/runners/basic_model_runner.py\u001b[0m in \u001b[0;36mevaluate\u001b[0;34m(self)\u001b[0m\n\u001b[1;32m    208\u001b[0m         \u001b[0;34m\"\"\"Get evaluation results\"\"\"\u001b[0m\u001b[0;34m\u001b[0m\u001b[0;34m\u001b[0m\u001b[0m\n\u001b[1;32m    209\u001b[0m         \u001b[0;32mif\u001b[0m \u001b[0mself\u001b[0m\u001b[0;34m.\u001b[0m\u001b[0mjob_id\u001b[0m \u001b[0;32mis\u001b[0m \u001b[0;32mNone\u001b[0m\u001b[0;34m:\u001b[0m\u001b[0;34m\u001b[0m\u001b[0;34m\u001b[0m\u001b[0m\n\u001b[0;32m--> 210\u001b[0;31m             \u001b[0;32mraise\u001b[0m \u001b[0mException\u001b[0m\u001b[0;34m(\u001b[0m\u001b[0;34m\"Must train before getting results (no job id))\"\u001b[0m\u001b[0;34m)\u001b[0m\u001b[0;34m\u001b[0m\u001b[0;34m\u001b[0m\u001b[0m\n\u001b[0m\u001b[1;32m    211\u001b[0m         \u001b[0mself\u001b[0m\u001b[0;34m.\u001b[0m\u001b[0mevaluation\u001b[0m \u001b[0;34m=\u001b[0m \u001b[0mself\u001b[0m\u001b[0;34m.\u001b[0m\u001b[0mllm\u001b[0m\u001b[0;34m.\u001b[0m\u001b[0mevaluate\u001b[0m\u001b[0;34m(\u001b[0m\u001b[0;34m)\u001b[0m\u001b[0;34m\u001b[0m\u001b[0;34m\u001b[0m\u001b[0m\n\u001b[1;32m    212\u001b[0m         \u001b[0;32mreturn\u001b[0m \u001b[0mself\u001b[0m\u001b[0;34m.\u001b[0m\u001b[0mevaluation\u001b[0m\u001b[0;34m\u001b[0m\u001b[0;34m\u001b[0m\u001b[0m\n",
            "\u001b[0;31mException\u001b[0m: Must train before getting results (no job id))"
          ]
        }
      ]
    },
    {
      "cell_type": "code",
      "source": [
        "lofd = []\n",
        "for e in out['eval_results']:\n",
        "    q  = f\"{e['input']}\"\n",
        "    at = f\"{e['outputs'][0]['output']}\"\n",
        "    ab = f\"{e['outputs'][1]['output']}\"\n",
        "    di = {'question': q, 'trained model': at, 'Base Model' : ab}\n",
        "    lofd.append(di)\n",
        "df = pd.DataFrame.from_dict(lofd)\n",
        "style_df = df.style.set_properties(**{'text-align': 'left'})\n",
        "style_df = style_df.set_properties(**{\"vertical-align\": \"text-top\"})\n",
        "style_df"
      ],
      "metadata": {
        "colab": {
          "base_uri": "https://localhost:8080/",
          "height": 245
        },
        "id": "hIGOlm7DVSDW",
        "outputId": "0ea3303f-5915-4672-b2f3-11b943ebe8f1"
      },
      "execution_count": 95,
      "outputs": [
        {
          "output_type": "error",
          "ename": "NameError",
          "evalue": "ignored",
          "traceback": [
            "\u001b[0;31m---------------------------------------------------------------------------\u001b[0m",
            "\u001b[0;31mNameError\u001b[0m                                 Traceback (most recent call last)",
            "\u001b[0;32m<ipython-input-95-3a1ed2c13a22>\u001b[0m in \u001b[0;36m<cell line: 2>\u001b[0;34m()\u001b[0m\n\u001b[1;32m      1\u001b[0m \u001b[0mlofd\u001b[0m \u001b[0;34m=\u001b[0m \u001b[0;34m[\u001b[0m\u001b[0;34m]\u001b[0m\u001b[0;34m\u001b[0m\u001b[0;34m\u001b[0m\u001b[0m\n\u001b[0;32m----> 2\u001b[0;31m \u001b[0;32mfor\u001b[0m \u001b[0me\u001b[0m \u001b[0;32min\u001b[0m \u001b[0mout\u001b[0m\u001b[0;34m[\u001b[0m\u001b[0;34m'eval_results'\u001b[0m\u001b[0;34m]\u001b[0m\u001b[0;34m:\u001b[0m\u001b[0;34m\u001b[0m\u001b[0;34m\u001b[0m\u001b[0m\n\u001b[0m\u001b[1;32m      3\u001b[0m     \u001b[0mq\u001b[0m  \u001b[0;34m=\u001b[0m \u001b[0;34mf\"{e['input']}\"\u001b[0m\u001b[0;34m\u001b[0m\u001b[0;34m\u001b[0m\u001b[0m\n\u001b[1;32m      4\u001b[0m     \u001b[0mat\u001b[0m \u001b[0;34m=\u001b[0m \u001b[0;34mf\"{e['outputs'][0]['output']}\"\u001b[0m\u001b[0;34m\u001b[0m\u001b[0;34m\u001b[0m\u001b[0m\n\u001b[1;32m      5\u001b[0m     \u001b[0mab\u001b[0m \u001b[0;34m=\u001b[0m \u001b[0;34mf\"{e['outputs'][1]['output']}\"\u001b[0m\u001b[0;34m\u001b[0m\u001b[0;34m\u001b[0m\u001b[0m\n",
            "\u001b[0;31mNameError\u001b[0m: name 'out' is not defined"
          ]
        }
      ]
    },
    {
      "cell_type": "code",
      "source": [
        "In this lesson, you'll step through the entire training process, and\n",
        "at the end see the model improve on your task, specifically\n",
        "for you to be able to chat with it.\n",
        "Alright, let's jump into it.\n",
        "Alright, training in LLM, what does this look like?\n",
        "So, the training process is actually quite similar to other\n",
        "neural networks.\n",
        "So, as you can see here, you know, the same setup that we\n",
        "had seen the LLM predict \"sd!!@\".\n",
        "What's going on?\n",
        "Well, first you add that training data up at the top.\n",
        "Then you calculate the loss, so it predicts something\n",
        "totally off in the beginning, predict the loss compared\n",
        "to the actual response it was supposed to give, that's\n",
        "a pawn.\n",
        "And then you update the weights, you back prop through\n",
        "the model to update the model to improve it,\n",
        "such that in the end it does learn to then\n",
        "output something like a pawn.\n",
        "There are a lot of different hyperparameters that\n",
        "go into training LLMs.\n",
        "We won't go through them very specifically, but\n",
        "across a few that you might want to play with is learning\n",
        "rate, learning scheduler, and various optimizer hyperparameters\n",
        "as well.\n",
        "All right, so now diving a level deeper into the code.\n",
        "So these are just general chunks of training\n",
        "process code in PyTorch.\n",
        "So first you want to go over the number of epochs,\n",
        "an epoch is a pass over your entire data set.\n",
        "So you might go over your entire data set multiple times.\n",
        "And then you want to load it up in batches.\n",
        "So that is those different batches that you saw when you're\n",
        "tokenizing data.\n",
        "So that's sets of data together.\n",
        "And then you put the batch through your\n",
        "model to get outputs.\n",
        "You compute the loss from your model and\n",
        "you take a backwards step and you update your optimizer.\n",
        "Okay. So now that you've gone through every step\n",
        "of this low level code in PyTorch, we're actually\n",
        "going to go one level higher into HuggingFace and\n",
        "also another level higher into the Llama library by\n",
        "Llama and I, just to see how the training\n",
        "process works in practice in the lab.\n",
        "So let's take a look at that.\n",
        "Okay.\n",
        "So first up is seeing how the training\n",
        "process has been simplified over time, quite a bit with\n",
        "higher and higher level interfaces, that PyTorch code you saw.\n",
        "Man, I remember running that during my PhD.\n",
        "Now there are so many great libraries out\n",
        "there to make this very easy.\n",
        "One of them is the Lamini Llama library, and it's just training your model in\n",
        "three lines of code that's hosted on an external GPU, and it\n",
        "can run any open source model, and you can get the model back.\n",
        "And as you can see here, it's just requesting that 410\n",
        "million parameter model.\n",
        "You can load that data from that same JSON lines file,\n",
        "and then you just hit \"model.train\".\n",
        "And that returns a dashboard, a playground interface,\n",
        "and a model ID that you can then call and continue training\n",
        "or run with for inference.\n",
        "All right, so for the rest of this lab, we're\n",
        "actually going to focus on using the Pythia\n",
        "70 million model.\n",
        "You might be wondering why we've been playing with that really small, tiny\n",
        "model, and the reason is that it can run on CPU nicely\n",
        "here for this lab, so that you can actually see\n",
        "the whole training process go.\n",
        "But realistically, for your actual use cases,\n",
        "I recommend starting with something a bit larger,\n",
        "maybe something around a billion parameters,\n",
        "or maybe even this 400 million one if your task\n",
        "is on the easier side.\n",
        "Cool.\n",
        "So first up, I'm going to load up all of these libraries, And\n",
        "one of them is a utilities file with a bunch of different\n",
        "functions in there.\n",
        "Some of them that we've already written together on the tokenizer,\n",
        "and others you should take a look at for just logging and showing\n",
        "outputs.\n",
        "So first let's start with the different configuration parameters\n",
        "for training.\n",
        "So there are two ways to actually, you know, import data. You've\n",
        "already seen those two ways. So one is just not\n",
        "using HuggingFace necessarily, you just specify a certain dataset path.\n",
        "\n",
        "Another one, you could specify a HuggingFace path,\n",
        "and here I'm using a boolean value, use HuggingFace, to\n",
        "specify whether that's true.\n",
        "We include both for you here so you can easily use it.\n",
        "Again, we're going to use a smaller model so that it runs on CPU, so\n",
        "this is just 70 million parameters here.\n",
        "And then finally, I'm going to put all of\n",
        "this into a training config, which will be then passed\n",
        "onto the model, just to understand, you know, what\n",
        "the model name is and the data is.\n",
        "Great.\n",
        "So the next step is the tokenizer.\n",
        "You've already done this in the past lab, but\n",
        "here again, you are loading that tokenizer and then\n",
        "splitting your data.\n",
        "So here's just the training and test set, and\n",
        "this is loading it up from HuggingFace.\n",
        "Next just loading up the model, you already specified\n",
        "the model name above.\n",
        "So that's 70 million parameter Pythia model.\n",
        "I'm just going to specify that as the base model, which hasn't been\n",
        "trained yet.\n",
        "Next an important piece of code.\n",
        "If you're using a GPU, this is PyTorch code that\n",
        "will be able to count how many CUDA devices, basically\n",
        "how many GPUs you have.\n",
        "And depending on that, if you have more than zero of them,\n",
        "that means you have a GPU.\n",
        "So you can actually put the model on GPU.\n",
        "Otherwise it'll be CPU.\n",
        "In this case, we're going to be using CPU.\n",
        "You can see select CPU device.\n",
        "All right. So just to put the model on that GPU or CPU,\n",
        "you just have to do the model to device.\n",
        "So very simple.\n",
        "So now this is printing out the, you know,\n",
        "what the model looks like here, but it's putting it on that device.\n",
        "All right.\n",
        "So putting together steps from the previous lab,\n",
        "but also adding in some new steps is inference.\n",
        "So you've already seen this function before, but\n",
        "now stepping through exactly what's going on.\n",
        "So first you're tokenizing that text coming in.\n",
        "You're also passing in your models.\n",
        "So that's the model here, and you want the model to\n",
        "generate based on those tokens.\n",
        "Now the tokens have to be put onto the same device so that,\n",
        "you know, if the model is on GPU, for example, you need to put the\n",
        "tokens on GPU as well. So the model can actually see it.\n",
        "And then next there's an important, you know, max input tokens and max\n",
        "output tokens here as parameters for specifying, you\n",
        "know, how many tokens can actually be put into the\n",
        "model as input. And then how many do you expect out?\n",
        "We're setting this to a hundred here as a default, but\n",
        "feel free to play with this make it longer so it generates\n",
        "more.\n",
        "Note that it does take time to generate\n",
        "more so expect a difference in the time\n",
        "it takes to generate.\n",
        "Next the model does generate some tokens out\n",
        "and so all you have to do is decode it with that\n",
        "tokenizer just like you saw before and here\n",
        "after you decode it you just have to\n",
        "strip out the prompt initially because it's\n",
        "just outputting both the prompt with your generated\n",
        "output and so I'm just having that return that\n",
        "generated text answer.\n",
        "So great this function you're going to be using a lot.\n",
        "So first up is taking a look at that first\n",
        "test set question and putting it through the model and\n",
        "try not to be too harsh and I know you've\n",
        "already kind of seen this before so again\n",
        "the model is answering this really weird way\n",
        "that you've seen before.\n",
        "It's not really answering the question which\n",
        "is here and the correct answer is here.\n",
        "Okay so this is what training is for.\n",
        "So next you're going to look at the training arguments.\n",
        "So there are a lot of different arguments.\n",
        "First, key in on a few.\n",
        "So the first one is the max number of steps\n",
        "that you can run on the model.\n",
        "So this is just max number of training steps.\n",
        "We're gonna set that to three just to make it very simple, just\n",
        "to walk through three different steps.\n",
        "What is a step exactly?\n",
        "A step is a batch of training data.\n",
        "And so if your batch size is one, it's just one data point. If\n",
        "your batch size is 2,000, it's 2,000 data points.\n",
        "Next is the trained model name. So what do you want to call it?\n",
        "So here I'm calling it the name of a dataset, plus,\n",
        "you know, the max steps here so that we can differentiate\n",
        "it if you want to play with different\n",
        "max steps and the word steps.\n",
        "Something I also think is the best practice that's\n",
        "not necessarily shown here is also to put\n",
        "the timestamp on the trained model because you\n",
        "might be experimenting with a lot of them.\n",
        "Okay, cool.\n",
        "So I'm now going to show you a big list of different training arguments.\n",
        "\n",
        "There are a lot of good defaults here.\n",
        "And I think the ones to focus on is max steps.\n",
        "This is probably going to stop the model from running past those\n",
        "three steps that you specified up there.\n",
        "And then also the learning rate.\n",
        "There are a bunch of different arguments here.\n",
        "I recommend that you can dive deeper into this if you're\n",
        "curious and be able to play with a lot of these arguments.\n",
        "But here we're largely setting these as\n",
        "good defaults for you.\n",
        "Next, we've included a function that calculates the\n",
        "number of floating point operations for\n",
        "the model.\n",
        "And so that's just flops and understanding the memory footprint of\n",
        "this base model.\n",
        "So here, it's just going to print that out here.\n",
        "This is just for your knowledge, just to understand what's going on.\n",
        "And we'll be printing that throughout training.\n",
        "And I know we said that this was a tiny, tiny model, but even here,\n",
        "look how big this model is here with 300 megabytes.\n",
        "So you can imagine a really large model to take up a\n",
        "ton of memory and this is why we need really high performing\n",
        "large memory GPUs to be able to run those larger models.\n",
        "Next you load this up in the trainer class.\n",
        "This is a class we wrapped around HuggingFaces\n",
        "main trainer class basically doing the same thing\n",
        "just printing out things for you as you train and as you\n",
        "can see you put a few things in. The main things are the base model,\n",
        "you put in you know max steps, the training arguments,\n",
        "and of course, your data sets you want to put in there.\n",
        "And the moment you've been waiting for.\n",
        "It is training the models.\n",
        "You just do \"trainer.train\".\n",
        "And let's see it go.\n",
        "Okay.\n",
        "Okay. So as you can see, it printed out a lot\n",
        "of different things in the logs, namely the loss.\n",
        "If you run this for more steps, even just 10 steps, you'll\n",
        "see the loss start to go down.\n",
        "All right.\n",
        "So now you've trained this model.\n",
        "Let's save it locally.\n",
        "So you can have a save directory, maybe specifying the output\n",
        "deer and the final as a final checkpoint.\n",
        "And then all you have to do is \"trainer.savemodel\".\n",
        "And let's see if it saved right here.\n",
        "So awesome, great work.\n",
        "Now that you've saved this model, you can actually load it up by just saying,\n",
        "you know,\n",
        "this auto model again from pre-trained and the save directory and you\n",
        "just have to specify local files equals true.\n",
        "So it doesn't pull from the HuggingFace hub in the cloud.\n",
        "I'm going to call this slightly fine-tuned model,\n",
        "or fine-tuned slightly model.\n",
        "And then I'm going to put this on the right device again.\n",
        "This is only important if you have a GPU, really,\n",
        "but here for CPU, just for good measure.\n",
        "And then let's run it. Let's see how it does.\n",
        "So let's see how it does on the test set again, or\n",
        "test data point again, and then just run inference.\n",
        "Again, this is the same inference function that you've\n",
        "run before.\n",
        "Cool.\n",
        "So is it any better? Not really.\n",
        "And is it supposed to be? Not really. It's\n",
        "only gone through a few steps.\n",
        "So what should it have been?\n",
        "Let's just take a look at that exact answer.\n",
        "So it's saying, yes, LAMNI can generate technical\n",
        "documentation user manuals.\n",
        "So it's it's very far from it. It's actually very similar still to that\n",
        "base model.\n",
        "Ok, but if you're patient, what could it look like?\n",
        "So we also fine tuned a model for far longer than that.\n",
        "So this model was only trained on three\n",
        "steps and actually in this case, three data points out of 1,260\n",
        "data points in the training data set.\n",
        "So instead we actually fine-tuned it on the entire data\n",
        "set twice for this \"lamini_docs_finetunemodel\" that we uploaded to HuggingFace that you\n",
        "can now download and actually use.\n",
        "And if you were to try this on your own computer,\n",
        "it might take half an hour or an hour, depending on your processor.\n",
        "Of course, if you have a GPU, it could just take a couple minutes.\n",
        "Great. So let's run this.\n",
        "Okay, this is a much better answer, and it's comparable to the\n",
        "actual target answer.\n",
        "But as you can see here at the end, it still starts to\n",
        "repeat itself additionally and laminize. So it's not perfect, but\n",
        "this is a much smaller model, and you could train it\n",
        "for even longer too.\n",
        "And now just to give you a sense of what\n",
        "a bigger model might do, This one was trained to be maybe a\n",
        "little bit less robust and repetitive.\n",
        "This is what a bigger 2.8 billion fine-tuned model would be.\n",
        "And this is running the LLAMA library with the same basic model\n",
        "runner as before.\n",
        "So here you can see, yes, LLAMA and I can generate technical\n",
        "documentation or user manuals.\n",
        "Ok, great.\n",
        "So one other thing that's kind of interesting in this dataset\n",
        "that we use to fine-tune that you can also do for your\n",
        "datasets is doing something called moderation,\n",
        "and encouraging the model to\n",
        "actually not get too off track.\n",
        "And if you look closely at the examples in this data set,\n",
        "which we're about to do, you'll see that there are examples that say, let's keep\n",
        "the discussion relevant to llamini.\n",
        "I'm going to loop through the data set here\n",
        "to find all the data points that say that, so\n",
        "that you can go see that yourself.\n",
        "So this is how you might prepare your own data set.\n",
        "And as a reminder, this is very similar to chat GPT.\n",
        "Sorry, i'm an AI and I can't answer that. So they're using a\n",
        "very similar thing here.\n",
        "So points it to the documentation to take a look\n",
        "at the fact that there isn't anything about Mars.\n",
        "All right, so now that you've run all of training here, you\n",
        "can actually do all of that in just three lines\n",
        "of code using Llamani's Llama library.\n",
        "And all you have to do is load up the model,\n",
        "load up your data and train it.\n",
        "And specifically here, we're running a slightly larger model.\n",
        "So the Pythia 410 million model, It's the biggest model that's available\n",
        "for a free tier.\n",
        "And then Llamani docs, you can load that up through a JSON\n",
        "lines file just like you did before and all you have to\n",
        "do is run \"model.train\". I'm running is public is true. So this\n",
        "is a public model that anyone can then\n",
        "run afterwards.\n",
        "Put that through instead of the Pythia 410\n",
        "in the basic model runner to then run it.\n",
        "You can also click on this link here to sign up,\n",
        "make an account.\n",
        "Basically you can see the results.\n",
        "You can run a chatbot there, kind of interface there to\n",
        "be able to see everything, but since is public is true,\n",
        "we can actually just look at the model\n",
        "results here on the command line, So \"model.evaluate\", run that. And\n",
        "here you can see, again, the same job ID. For this job ID, you\n",
        "can see all the evaluation results that were\n",
        "data points that were not trained on.\n",
        "And so just to pretty print this a little bit into a data frame, I'm\n",
        "gonna plop some code in here to reformat that.\n",
        "So this is just code that is reformatting that into a nice\n",
        "data frame from that list of dictionaries.\n",
        "Cool.\n",
        "And here you can see a lot of different, you know, questions and then answer\n",
        "from the train model versus the base model.\n",
        "So this is an easy way to compare those results.\n",
        "So here's a question. Does Lamini have the ability to understand\n",
        "and generate code for audio processing tasks?\n",
        "And you can see that the train model\n",
        "actually gave an answer. Yes, Lamini has the ability to understand,\n",
        "and generic codes not quite there yet. This is really a baby\n",
        "model and a very limited data, but it is much\n",
        "better than this base model that answers a colon.\n",
        "all nice a very good language for audio processing A\n",
        "colon. You know, yes, Lamini has the ability\n",
        "to understand and generate code. It's not quite there yet, so\n",
        "this is a really baby model with very limited data, but\n",
        "it. It is much better than this base model that\n",
        "answers with A colon, I think you are looking\n",
        "for a language that can be used to\n",
        "write audio code just very often, it keeps rambling.\n",
        "So a very big difference in performance.\n",
        "And now you can see a different question here,\n",
        "you know, is it possible to control the level of\n",
        "detail in the generated output?\n",
        "So as you can see, you can go through all these\n",
        "results and in the next lab, we'll actually explore how to evaluate\n",
        "all of these results.\n"
      ],
      "metadata": {
        "colab": {
          "base_uri": "https://localhost:8080/",
          "height": 141
        },
        "id": "Ui35enRXVSGZ",
        "outputId": "f583139b-acde-4dad-89aa-3ebcff3e3297"
      },
      "execution_count": 96,
      "outputs": [
        {
          "output_type": "error",
          "ename": "SyntaxError",
          "evalue": "ignored",
          "traceback": [
            "\u001b[0;36m  File \u001b[0;32m\"<ipython-input-96-572b9f7f8579>\"\u001b[0;36m, line \u001b[0;32m1\u001b[0m\n\u001b[0;31m    In this lesson, you'll step through the entire training process, and\u001b[0m\n\u001b[0m                       ^\u001b[0m\n\u001b[0;31mSyntaxError\u001b[0m\u001b[0;31m:\u001b[0m unterminated string literal (detected at line 1)\n"
          ]
        }
      ]
    },
    {
      "cell_type": "code",
      "source": [],
      "metadata": {
        "id": "-b-Vb9LpT-Em"
      },
      "execution_count": null,
      "outputs": []
    }
  ]
}
