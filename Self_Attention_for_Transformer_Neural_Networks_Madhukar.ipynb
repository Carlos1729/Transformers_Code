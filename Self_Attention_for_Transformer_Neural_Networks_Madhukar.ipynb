{
  "nbformat": 4,
  "nbformat_minor": 0,
  "metadata": {
    "colab": {
      "provenance": [],
      "include_colab_link": true
    },
    "kernelspec": {
      "name": "python3",
      "display_name": "Python 3"
    },
    "language_info": {
      "name": "python"
    }
  },
  "cells": [
    {
      "cell_type": "markdown",
      "metadata": {
        "id": "view-in-github",
        "colab_type": "text"
      },
      "source": [
        "<a href=\"https://colab.research.google.com/github/Carlos1729/Transformers_Code/blob/main/Self_Attention_for_Transformer_Neural_Networks_Madhukar.ipynb\" target=\"_parent\"><img src=\"https://colab.research.google.com/assets/colab-badge.svg\" alt=\"Open In Colab\"/></a>"
      ]
    },
    {
      "cell_type": "markdown",
      "source": [
        "# Self Attention in Transformers"
      ],
      "metadata": {
        "id": "gO5Z0qErNuOt"
      }
    },
    {
      "cell_type": "markdown",
      "source": [
        "## Generate Data"
      ],
      "metadata": {
        "id": "HedntyUvLrBo"
      }
    },
    {
      "cell_type": "code",
      "source": [
        "import numpy as np\n",
        "import math\n",
        "\n",
        "L, d_k, d_v = 4, 8, 8 #4 is for My name is Ajay what is the use of the remaining ones\n",
        "q = np.random.randn(L, d_k)\n",
        "k = np.random.randn(L, d_k)\n",
        "v = np.random.randn(L, d_v)"
      ],
      "metadata": {
        "id": "xtKbaWhFJui3"
      },
      "execution_count": 1,
      "outputs": []
    },
    {
      "cell_type": "code",
      "source": [
        "print(\"Q\\n\", q)#each first row represents the value of MY\n",
        "print(\"K\\n\", k)\n",
        "print(\"V\\n\", v)"
      ],
      "metadata": {
        "colab": {
          "base_uri": "https://localhost:8080/"
        },
        "id": "09JpvuNJ2sZC",
        "outputId": "f10af247-4b73-4b90-ae31-0cbdf2c75592"
      },
      "execution_count": 3,
      "outputs": [
        {
          "output_type": "stream",
          "name": "stdout",
          "text": [
            "Q\n",
            " [[-2.6879324   0.07854285 -0.64721039  0.36714661  0.32883658  0.62780827\n",
            "  -3.39731454  0.94502965]\n",
            " [-0.70253061  1.22888519 -0.29549868 -1.0314771  -0.91978412  0.27206952\n",
            "   0.89239788 -0.12553903]\n",
            " [-0.47566418  0.979592   -0.88340703  0.82766499  1.09016252 -0.23835494\n",
            "   0.21535181  0.57839964]\n",
            " [-0.81785089 -0.51255382 -1.22857287 -0.3379141  -1.28545635 -0.25243038\n",
            "  -0.12786602  0.11140824]]\n",
            "K\n",
            " [[ 0.08154103 -0.95601322  1.12336335 -0.47340832 -0.68075519  0.48105207\n",
            "  -0.0127978  -0.45762074]\n",
            " [-0.97462519 -2.40703059 -0.0684793  -0.22713621 -1.07703894  1.86346115\n",
            "  -0.47046248  0.85431961]\n",
            " [ 0.07276018  2.00754453 -0.51775134 -0.43810541  2.01571525  0.27616779\n",
            "   1.65457744  0.19981189]\n",
            " [-1.98762627  0.47380283  0.68431491 -0.65272383  1.20062299  0.08587655\n",
            "   0.51920804 -0.15466817]]\n",
            "V\n",
            " [[-0.49189828 -0.11500711 -0.4024976  -1.48276893 -0.12739775  0.11687734\n",
            "   0.50024686 -0.70605724]\n",
            " [-1.37109215 -0.02025637  0.07030794  0.07045627 -0.14907388 -0.08567621\n",
            "  -0.51571271  1.10184482]\n",
            " [-1.22940703 -0.02523145 -0.54996278 -0.14454805 -1.30609759  0.12508171\n",
            "  -1.02275876 -1.31908401]\n",
            " [-0.16987388 -1.44570233  0.08134034  0.54566615 -0.66363745 -1.37138219\n",
            "   1.07974057  1.63704388]]\n"
          ]
        }
      ]
    },
    {
      "cell_type": "code",
      "source": [
        "q.shape, k.shape"
      ],
      "metadata": {
        "colab": {
          "base_uri": "https://localhost:8080/"
        },
        "id": "d9tHChcU8Ggh",
        "outputId": "3328b350-4274-4b67-9d5a-6d32dd542797"
      },
      "execution_count": 4,
      "outputs": [
        {
          "output_type": "execute_result",
          "data": {
            "text/plain": [
              "((4, 8), (4, 8))"
            ]
          },
          "metadata": {},
          "execution_count": 4
        }
      ]
    },
    {
      "cell_type": "markdown",
      "source": [
        "## Self Attention\n",
        "\n",
        "$$\n",
        "\\text{self attention} = softmax\\bigg(\\frac{Q.K^T}{\\sqrt{d_k}}+M\\bigg)\n",
        "$$\n",
        "\n",
        "$$\n",
        "\\text{new V} = \\text{self attention}.V\n",
        "$$"
      ],
      "metadata": {
        "id": "tV6txskBLwjh"
      }
    },
    {
      "cell_type": "code",
      "source": [
        "np.matmul(q, k.T)#my depends more on the word name by this is being generated from normal data only how his he infering it from this"
      ],
      "metadata": {
        "colab": {
          "base_uri": "https://localhost:8080/"
        },
        "id": "x7GePHKk3Mh0",
        "outputId": "2eeb786b-7167-4f20-a95d-7da39890b4b8"
      },
      "execution_count": 6,
      "outputs": [
        {
          "output_type": "execute_result",
          "data": {
            "text/plain": [
              "array([[-1.50596321,  5.61299273, -4.45972156,  3.23592155],\n",
              "       [-0.27270216, -1.04819476,  2.6933872 ,  1.85148057],\n",
              "       [-3.48373827, -3.24730067,  4.63026447,  1.57556829],\n",
              "       [-0.09253997,  3.26114188, -3.15447501, -0.88608037]])"
            ]
          },
          "metadata": {},
          "execution_count": 6
        }
      ]
    },
    {
      "cell_type": "code",
      "source": [
        "# Why we need sqrt(d_k) in denominator this is applied to decrease the variance\n",
        "q.var(), k.var(), np.matmul(q, k.T).var()"
      ],
      "metadata": {
        "colab": {
          "base_uri": "https://localhost:8080/"
        },
        "id": "odK76OoI3nL2",
        "outputId": "e5307557-6edb-4676-840d-87682c8c115f"
      },
      "execution_count": 7,
      "outputs": [
        {
          "output_type": "execute_result",
          "data": {
            "text/plain": [
              "(1.0145062333184773, 1.055915255518609, 8.911587506672388)"
            ]
          },
          "metadata": {},
          "execution_count": 7
        }
      ]
    },
    {
      "cell_type": "code",
      "source": [
        "scaled = np.matmul(q, k.T) / math.sqrt(d_k)\n",
        "q.var(), k.var(), scaled.var()"
      ],
      "metadata": {
        "colab": {
          "base_uri": "https://localhost:8080/"
        },
        "id": "0Ps6AY1Q3tRI",
        "outputId": "be19374d-7364-4c2a-93fe-eec2997ad3cd"
      },
      "execution_count": 8,
      "outputs": [
        {
          "output_type": "execute_result",
          "data": {
            "text/plain": [
              "(1.0145062333184773, 1.055915255518609, 1.1139484383340483)"
            ]
          },
          "metadata": {},
          "execution_count": 8
        }
      ]
    },
    {
      "cell_type": "markdown",
      "source": [
        "Notice the reduction in variance of the product"
      ],
      "metadata": {
        "id": "ypO9IK1PL3cJ"
      }
    },
    {
      "cell_type": "code",
      "source": [
        "scaled"
      ],
      "metadata": {
        "colab": {
          "base_uri": "https://localhost:8080/"
        },
        "id": "LVHAJR4N4VQX",
        "outputId": "bb405816-7486-4f6a-dbc4-ffdedeb4777a"
      },
      "execution_count": 9,
      "outputs": [
        {
          "output_type": "execute_result",
          "data": {
            "text/plain": [
              "array([[-0.5324384 ,  1.98449261, -1.57674968,  1.14407104],\n",
              "       [-0.09641477, -0.37059281,  0.95225618,  0.65459723],\n",
              "       [-1.23168748, -1.14809416,  1.6370457 ,  0.55704751],\n",
              "       [-0.03271782,  1.15298777, -1.11527533, -0.31327672]])"
            ]
          },
          "metadata": {},
          "execution_count": 9
        }
      ]
    },
    {
      "cell_type": "markdown",
      "source": [
        "## Masking\n",
        "\n",
        "- This is to ensure words don't get context from words generated in the future.\n",
        "- Not required in the encoders, but required int he decoders"
      ],
      "metadata": {
        "id": "Dmz4v-RmMAaj"
      }
    },
    {
      "cell_type": "code",
      "source": [
        "mask = np.tril(np.ones( (L, L) ))\n",
        "mask"
      ],
      "metadata": {
        "colab": {
          "base_uri": "https://localhost:8080/"
        },
        "id": "e8N3OhSLILfG",
        "outputId": "3562e9df-4c72-4bdc-bef1-5c197d84e1d0"
      },
      "execution_count": 10,
      "outputs": [
        {
          "output_type": "execute_result",
          "data": {
            "text/plain": [
              "array([[1., 0., 0., 0.],\n",
              "       [1., 1., 0., 0.],\n",
              "       [1., 1., 1., 0.],\n",
              "       [1., 1., 1., 1.]])"
            ]
          },
          "metadata": {},
          "execution_count": 10
        }
      ]
    },
    {
      "cell_type": "code",
      "source": [
        "mask[mask == 0] = -np.infty\n",
        "mask[mask == 1] = 0"
      ],
      "metadata": {
        "id": "hIV9K3Yn6s1V"
      },
      "execution_count": 11,
      "outputs": []
    },
    {
      "cell_type": "code",
      "source": [
        "mask"
      ],
      "metadata": {
        "colab": {
          "base_uri": "https://localhost:8080/"
        },
        "id": "LK5V_T3W6vpX",
        "outputId": "944fdc09-2799-4292-c10e-eeecfbc923fd"
      },
      "execution_count": 12,
      "outputs": [
        {
          "output_type": "execute_result",
          "data": {
            "text/plain": [
              "array([[  0., -inf, -inf, -inf],\n",
              "       [  0.,   0., -inf, -inf],\n",
              "       [  0.,   0.,   0., -inf],\n",
              "       [  0.,   0.,   0.,   0.]])"
            ]
          },
          "metadata": {},
          "execution_count": 12
        }
      ]
    },
    {
      "cell_type": "code",
      "source": [
        "scaled + mask"
      ],
      "metadata": {
        "colab": {
          "base_uri": "https://localhost:8080/"
        },
        "id": "lNH1VgEf7xTa",
        "outputId": "f2862047-ffd9-4077-9ee0-307528ccf454"
      },
      "execution_count": 13,
      "outputs": [
        {
          "output_type": "execute_result",
          "data": {
            "text/plain": [
              "array([[-0.5324384 ,        -inf,        -inf,        -inf],\n",
              "       [-0.09641477, -0.37059281,        -inf,        -inf],\n",
              "       [-1.23168748, -1.14809416,  1.6370457 ,        -inf],\n",
              "       [-0.03271782,  1.15298777, -1.11527533, -0.31327672]])"
            ]
          },
          "metadata": {},
          "execution_count": 13
        }
      ]
    },
    {
      "cell_type": "markdown",
      "source": [
        "## Softmax\n",
        "\n",
        "$$\n",
        "\\text{softmax} = \\frac{e^{x_i}}{\\sum_j e^x_j}\n",
        "$$"
      ],
      "metadata": {
        "id": "XMTAXjooN9eZ"
      }
    },
    {
      "cell_type": "code",
      "source": [
        "def softmax(x):\n",
        "  f = np.exp(x);\n",
        "  s = np.sum(np.exp(x), axis=-1);\n",
        "  print(f,f.shape)\n",
        "  print(s,s.shape)\n",
        "  return (f.T / s).T"
      ],
      "metadata": {
        "id": "2R4gdRqj8W4Y"
      },
      "execution_count": 22,
      "outputs": []
    },
    {
      "cell_type": "code",
      "source": [
        "def softmax(x):\n",
        "  f = np.exp(x);\n",
        "  s = np.sum(np.exp(x), axis=-1);\n",
        "  print(f,f.shape)\n",
        "  print(s,s.shape)\n",
        "  return (f/s)"
      ],
      "metadata": {
        "id": "qYTm3v3X_MO1"
      },
      "execution_count": 20,
      "outputs": []
    },
    {
      "cell_type": "code",
      "source": [
        "# np.exp(x): This computes the element-wise exponential of the input matrix x. Each element of the matrix is exponentiated.\n",
        "# np.sum(np.exp(x), axis=-1): This computes the sum of the exponentiated elements along the last axis (axis=-1) for each row. In this context, it computes the sum for each row independently.\n",
        "# (np.exp(x).T / np.sum(np.exp(x), axis=-1)).T: This is element-wise division, where the exponentiated values from step 1 are divided by the sum computed in step 2 for each row.\n",
        "# The transpose operation (.T) is used to ensure that the dimensions match for broadcasting when dividing."
      ],
      "metadata": {
        "id": "nuBIJv_RAJem"
      },
      "execution_count": 25,
      "outputs": []
    },
    {
      "cell_type": "code",
      "source": [
        "attention = softmax(scaled + mask)"
      ],
      "metadata": {
        "id": "K5eg2zPy41sP",
        "colab": {
          "base_uri": "https://localhost:8080/"
        },
        "outputId": "15d461b4-485c-4199-851f-3d352b817f21"
      },
      "execution_count": 23,
      "outputs": [
        {
          "output_type": "stream",
          "name": "stdout",
          "text": [
            "[[0.58717146 0.         0.         0.        ]\n",
            " [0.90808729 0.69032498 0.         0.        ]\n",
            " [0.29179976 0.3172408  5.13996208 0.        ]\n",
            " [0.96781162 3.16764297 0.327825   0.73104759]] (4, 4)\n",
            "[0.58717146 1.59841226 5.74900264 5.19432719] (4,)\n"
          ]
        }
      ]
    },
    {
      "cell_type": "code",
      "source": [
        "attention"
      ],
      "metadata": {
        "colab": {
          "base_uri": "https://localhost:8080/"
        },
        "id": "7sauNmfl-1TB",
        "outputId": "0a194a81-8496-4efa-cb0a-f63fcd0523aa"
      },
      "execution_count": 24,
      "outputs": [
        {
          "output_type": "execute_result",
          "data": {
            "text/plain": [
              "array([[1.        , 0.        , 0.        , 0.        ],\n",
              "       [0.56811832, 0.43188168, 0.        , 0.        ],\n",
              "       [0.05075659, 0.05518189, 0.89406153, 0.        ],\n",
              "       [0.18632088, 0.60982739, 0.06311212, 0.14073961]])"
            ]
          },
          "metadata": {},
          "execution_count": 24
        }
      ]
    },
    {
      "cell_type": "code",
      "source": [
        "attention.shape, v.shape"
      ],
      "metadata": {
        "colab": {
          "base_uri": "https://localhost:8080/"
        },
        "id": "Hk9bms5GARZd",
        "outputId": "f5658753-4e2b-4802-c604-f812a1185b76"
      },
      "execution_count": 27,
      "outputs": [
        {
          "output_type": "execute_result",
          "data": {
            "text/plain": [
              "((4, 4), (4, 8))"
            ]
          },
          "metadata": {},
          "execution_count": 27
        }
      ]
    },
    {
      "cell_type": "code",
      "source": [
        "new_v = np.matmul(attention, v)\n",
        "new_v"
      ],
      "metadata": {
        "colab": {
          "base_uri": "https://localhost:8080/"
        },
        "id": "BAy37go56LZo",
        "outputId": "e729cfc6-cbe9-4b44-ea36-0c82ccafa18a"
      },
      "execution_count": 28,
      "outputs": [
        {
          "output_type": "execute_result",
          "data": {
            "text/plain": [
              "array([[-0.49189828, -0.11500711, -0.4024976 , -1.48276893, -0.12739775,\n",
              "         0.11687734,  0.50024686, -0.70605724],\n",
              "       [-0.87160601, -0.074086  , -0.19830155, -0.81195942, -0.13675927,\n",
              "         0.02939817,  0.06147253,  0.07474254],\n",
              "       [-1.19979205, -0.02951362, -0.50825024, -0.20060723, -1.18242406,\n",
              "         0.11303526, -0.91747644, -1.15437745],\n",
              "       [-1.02927893, -0.23884111, -0.05537951, -0.16563054, -0.29047686,\n",
              "        -0.21558463, -0.13387551,  0.68752867]])"
            ]
          },
          "metadata": {},
          "execution_count": 28
        }
      ]
    },
    {
      "cell_type": "code",
      "source": [
        "v"
      ],
      "metadata": {
        "colab": {
          "base_uri": "https://localhost:8080/"
        },
        "id": "vCP2aZOU9VrT",
        "outputId": "f96e08ca-2277-4a2a-b3c0-eaf2a7465830"
      },
      "execution_count": 29,
      "outputs": [
        {
          "output_type": "execute_result",
          "data": {
            "text/plain": [
              "array([[-0.49189828, -0.11500711, -0.4024976 , -1.48276893, -0.12739775,\n",
              "         0.11687734,  0.50024686, -0.70605724],\n",
              "       [-1.37109215, -0.02025637,  0.07030794,  0.07045627, -0.14907388,\n",
              "        -0.08567621, -0.51571271,  1.10184482],\n",
              "       [-1.22940703, -0.02523145, -0.54996278, -0.14454805, -1.30609759,\n",
              "         0.12508171, -1.02275876, -1.31908401],\n",
              "       [-0.16987388, -1.44570233,  0.08134034,  0.54566615, -0.66363745,\n",
              "        -1.37138219,  1.07974057,  1.63704388]])"
            ]
          },
          "metadata": {},
          "execution_count": 29
        }
      ]
    },
    {
      "cell_type": "code",
      "source": [],
      "metadata": {
        "id": "h_JndWelLDNW"
      },
      "execution_count": null,
      "outputs": []
    },
    {
      "cell_type": "markdown",
      "source": [
        "# Function"
      ],
      "metadata": {
        "id": "nSiJuBQELFHT"
      }
    },
    {
      "cell_type": "code",
      "source": [
        "def softmax(x):\n",
        "  return (np.exp(x).T / np.sum(np.exp(x), axis=-1)).T\n",
        "\n",
        "def scaled_dot_product_attention(q, k, v, mask=None):\n",
        "  d_k = q.shape[-1]\n",
        "  scaled = np.matmul(q, k.T) / math.sqrt(d_k)\n",
        "  if mask is not None:\n",
        "    scaled = scaled + mask\n",
        "  attention = softmax(scaled)\n",
        "  out = np.matmul(attention, v)\n",
        "  return out, attention"
      ],
      "metadata": {
        "id": "XvTnmdcB_jdq"
      },
      "execution_count": 30,
      "outputs": []
    },
    {
      "cell_type": "code",
      "source": [
        "values, attention = scaled_dot_product_attention(q, k, v, mask=mask)\n",
        "print(\"Q\\n\", q)\n",
        "print(\"K\\n\", k)\n",
        "print(\"V\\n\", v)\n",
        "print(\"New V\\n\", values)\n",
        "print(\"Attention\\n\", attention)"
      ],
      "metadata": {
        "colab": {
          "base_uri": "https://localhost:8080/"
        },
        "id": "KSxLkZdiSLMT",
        "outputId": "9c7e9cb2-5620-4425-dfc1-52cd11f28084"
      },
      "execution_count": 31,
      "outputs": [
        {
          "output_type": "stream",
          "name": "stdout",
          "text": [
            "Q\n",
            " [[-2.6879324   0.07854285 -0.64721039  0.36714661  0.32883658  0.62780827\n",
            "  -3.39731454  0.94502965]\n",
            " [-0.70253061  1.22888519 -0.29549868 -1.0314771  -0.91978412  0.27206952\n",
            "   0.89239788 -0.12553903]\n",
            " [-0.47566418  0.979592   -0.88340703  0.82766499  1.09016252 -0.23835494\n",
            "   0.21535181  0.57839964]\n",
            " [-0.81785089 -0.51255382 -1.22857287 -0.3379141  -1.28545635 -0.25243038\n",
            "  -0.12786602  0.11140824]]\n",
            "K\n",
            " [[ 0.08154103 -0.95601322  1.12336335 -0.47340832 -0.68075519  0.48105207\n",
            "  -0.0127978  -0.45762074]\n",
            " [-0.97462519 -2.40703059 -0.0684793  -0.22713621 -1.07703894  1.86346115\n",
            "  -0.47046248  0.85431961]\n",
            " [ 0.07276018  2.00754453 -0.51775134 -0.43810541  2.01571525  0.27616779\n",
            "   1.65457744  0.19981189]\n",
            " [-1.98762627  0.47380283  0.68431491 -0.65272383  1.20062299  0.08587655\n",
            "   0.51920804 -0.15466817]]\n",
            "V\n",
            " [[-0.49189828 -0.11500711 -0.4024976  -1.48276893 -0.12739775  0.11687734\n",
            "   0.50024686 -0.70605724]\n",
            " [-1.37109215 -0.02025637  0.07030794  0.07045627 -0.14907388 -0.08567621\n",
            "  -0.51571271  1.10184482]\n",
            " [-1.22940703 -0.02523145 -0.54996278 -0.14454805 -1.30609759  0.12508171\n",
            "  -1.02275876 -1.31908401]\n",
            " [-0.16987388 -1.44570233  0.08134034  0.54566615 -0.66363745 -1.37138219\n",
            "   1.07974057  1.63704388]]\n",
            "New V\n",
            " [[-0.49189828 -0.11500711 -0.4024976  -1.48276893 -0.12739775  0.11687734\n",
            "   0.50024686 -0.70605724]\n",
            " [-0.87160601 -0.074086   -0.19830155 -0.81195942 -0.13675927  0.02939817\n",
            "   0.06147253  0.07474254]\n",
            " [-1.19979205 -0.02951362 -0.50825024 -0.20060723 -1.18242406  0.11303526\n",
            "  -0.91747644 -1.15437745]\n",
            " [-1.02927893 -0.23884111 -0.05537951 -0.16563054 -0.29047686 -0.21558463\n",
            "  -0.13387551  0.68752867]]\n",
            "Attention\n",
            " [[1.         0.         0.         0.        ]\n",
            " [0.56811832 0.43188168 0.         0.        ]\n",
            " [0.05075659 0.05518189 0.89406153 0.        ]\n",
            " [0.18632088 0.60982739 0.06311212 0.14073961]]\n"
          ]
        }
      ]
    },
    {
      "cell_type": "code",
      "source": [],
      "metadata": {
        "id": "-HtQQtB2LJus"
      },
      "execution_count": null,
      "outputs": []
    }
  ]
}